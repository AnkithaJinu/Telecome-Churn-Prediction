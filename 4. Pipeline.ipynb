{
 "cells": [
  {
   "cell_type": "code",
   "execution_count": 1,
   "id": "8d726d04",
   "metadata": {},
   "outputs": [],
   "source": [
    "import pandas as pd\n",
    "import numpy as np\n",
    "import matplotlib.pyplot as plt"
   ]
  },
  {
   "cell_type": "code",
   "execution_count": 2,
   "id": "7a3d6abf",
   "metadata": {},
   "outputs": [
    {
     "data": {
      "text/html": [
       "<div>\n",
       "<style scoped>\n",
       "    .dataframe tbody tr th:only-of-type {\n",
       "        vertical-align: middle;\n",
       "    }\n",
       "\n",
       "    .dataframe tbody tr th {\n",
       "        vertical-align: top;\n",
       "    }\n",
       "\n",
       "    .dataframe thead th {\n",
       "        text-align: right;\n",
       "    }\n",
       "</style>\n",
       "<table border=\"1\" class=\"dataframe\">\n",
       "  <thead>\n",
       "    <tr style=\"text-align: right;\">\n",
       "      <th></th>\n",
       "      <th>Unnamed: 0</th>\n",
       "      <th>gender</th>\n",
       "      <th>SeniorCitizen</th>\n",
       "      <th>Dependents</th>\n",
       "      <th>tenure</th>\n",
       "      <th>InternetService</th>\n",
       "      <th>OnlineSecurity</th>\n",
       "      <th>OnlineBackup</th>\n",
       "      <th>DeviceProtection</th>\n",
       "      <th>TechSupport</th>\n",
       "      <th>Contract</th>\n",
       "      <th>PaperlessBilling</th>\n",
       "      <th>PaymentMethod</th>\n",
       "      <th>MonthlyCharges</th>\n",
       "      <th>TotalCharges</th>\n",
       "      <th>Churn</th>\n",
       "    </tr>\n",
       "  </thead>\n",
       "  <tbody>\n",
       "    <tr>\n",
       "      <th>0</th>\n",
       "      <td>0</td>\n",
       "      <td>Male</td>\n",
       "      <td>0</td>\n",
       "      <td>Yes</td>\n",
       "      <td>34</td>\n",
       "      <td>Fiber optic</td>\n",
       "      <td>No</td>\n",
       "      <td>No</td>\n",
       "      <td>No</td>\n",
       "      <td>No</td>\n",
       "      <td>One year</td>\n",
       "      <td>Yes</td>\n",
       "      <td>Bank transfer (automatic)</td>\n",
       "      <td>78.95</td>\n",
       "      <td>2647.20</td>\n",
       "      <td>No</td>\n",
       "    </tr>\n",
       "    <tr>\n",
       "      <th>1</th>\n",
       "      <td>1</td>\n",
       "      <td>Male</td>\n",
       "      <td>0</td>\n",
       "      <td>Yes</td>\n",
       "      <td>70</td>\n",
       "      <td>DSL</td>\n",
       "      <td>No</td>\n",
       "      <td>Yes</td>\n",
       "      <td>Yes</td>\n",
       "      <td>Yes</td>\n",
       "      <td>Two year</td>\n",
       "      <td>Yes</td>\n",
       "      <td>Credit card (automatic)</td>\n",
       "      <td>85.95</td>\n",
       "      <td>5931.75</td>\n",
       "      <td>No</td>\n",
       "    </tr>\n",
       "    <tr>\n",
       "      <th>2</th>\n",
       "      <td>2</td>\n",
       "      <td>Female</td>\n",
       "      <td>0</td>\n",
       "      <td>No</td>\n",
       "      <td>69</td>\n",
       "      <td>Fiber optic</td>\n",
       "      <td>No</td>\n",
       "      <td>No</td>\n",
       "      <td>Yes</td>\n",
       "      <td>Yes</td>\n",
       "      <td>Two year</td>\n",
       "      <td>No</td>\n",
       "      <td>Electronic check</td>\n",
       "      <td>104.00</td>\n",
       "      <td>7028.50</td>\n",
       "      <td>No</td>\n",
       "    </tr>\n",
       "    <tr>\n",
       "      <th>3</th>\n",
       "      <td>3</td>\n",
       "      <td>Female</td>\n",
       "      <td>0</td>\n",
       "      <td>No</td>\n",
       "      <td>5</td>\n",
       "      <td>No</td>\n",
       "      <td>No internet service</td>\n",
       "      <td>No internet service</td>\n",
       "      <td>No internet service</td>\n",
       "      <td>No internet service</td>\n",
       "      <td>Month-to-month</td>\n",
       "      <td>No</td>\n",
       "      <td>Credit card (automatic)</td>\n",
       "      <td>20.55</td>\n",
       "      <td>96.10</td>\n",
       "      <td>No</td>\n",
       "    </tr>\n",
       "    <tr>\n",
       "      <th>4</th>\n",
       "      <td>4</td>\n",
       "      <td>Female</td>\n",
       "      <td>0</td>\n",
       "      <td>Yes</td>\n",
       "      <td>72</td>\n",
       "      <td>Fiber optic</td>\n",
       "      <td>Yes</td>\n",
       "      <td>Yes</td>\n",
       "      <td>Yes</td>\n",
       "      <td>Yes</td>\n",
       "      <td>Two year</td>\n",
       "      <td>Yes</td>\n",
       "      <td>Bank transfer (automatic)</td>\n",
       "      <td>113.10</td>\n",
       "      <td>8248.50</td>\n",
       "      <td>No</td>\n",
       "    </tr>\n",
       "    <tr>\n",
       "      <th>...</th>\n",
       "      <td>...</td>\n",
       "      <td>...</td>\n",
       "      <td>...</td>\n",
       "      <td>...</td>\n",
       "      <td>...</td>\n",
       "      <td>...</td>\n",
       "      <td>...</td>\n",
       "      <td>...</td>\n",
       "      <td>...</td>\n",
       "      <td>...</td>\n",
       "      <td>...</td>\n",
       "      <td>...</td>\n",
       "      <td>...</td>\n",
       "      <td>...</td>\n",
       "      <td>...</td>\n",
       "      <td>...</td>\n",
       "    </tr>\n",
       "    <tr>\n",
       "      <th>3733</th>\n",
       "      <td>3733</td>\n",
       "      <td>Male</td>\n",
       "      <td>0</td>\n",
       "      <td>No</td>\n",
       "      <td>12</td>\n",
       "      <td>DSL</td>\n",
       "      <td>No</td>\n",
       "      <td>No</td>\n",
       "      <td>No</td>\n",
       "      <td>Yes</td>\n",
       "      <td>One year</td>\n",
       "      <td>Yes</td>\n",
       "      <td>Electronic check</td>\n",
       "      <td>59.80</td>\n",
       "      <td>727.80</td>\n",
       "      <td>Yes</td>\n",
       "    </tr>\n",
       "    <tr>\n",
       "      <th>3734</th>\n",
       "      <td>3734</td>\n",
       "      <td>Female</td>\n",
       "      <td>0</td>\n",
       "      <td>No</td>\n",
       "      <td>9</td>\n",
       "      <td>DSL</td>\n",
       "      <td>No</td>\n",
       "      <td>No</td>\n",
       "      <td>No</td>\n",
       "      <td>No</td>\n",
       "      <td>Month-to-month</td>\n",
       "      <td>Yes</td>\n",
       "      <td>Bank transfer (automatic)</td>\n",
       "      <td>44.20</td>\n",
       "      <td>403.35</td>\n",
       "      <td>Yes</td>\n",
       "    </tr>\n",
       "    <tr>\n",
       "      <th>3735</th>\n",
       "      <td>3735</td>\n",
       "      <td>Male</td>\n",
       "      <td>1</td>\n",
       "      <td>No</td>\n",
       "      <td>1</td>\n",
       "      <td>Fiber optic</td>\n",
       "      <td>No</td>\n",
       "      <td>No</td>\n",
       "      <td>No</td>\n",
       "      <td>No</td>\n",
       "      <td>Month-to-month</td>\n",
       "      <td>Yes</td>\n",
       "      <td>Electronic check</td>\n",
       "      <td>75.75</td>\n",
       "      <td>75.75</td>\n",
       "      <td>Yes</td>\n",
       "    </tr>\n",
       "    <tr>\n",
       "      <th>3736</th>\n",
       "      <td>3736</td>\n",
       "      <td>Female</td>\n",
       "      <td>0</td>\n",
       "      <td>No</td>\n",
       "      <td>67</td>\n",
       "      <td>Fiber optic</td>\n",
       "      <td>Yes</td>\n",
       "      <td>Yes</td>\n",
       "      <td>Yes</td>\n",
       "      <td>No</td>\n",
       "      <td>Month-to-month</td>\n",
       "      <td>Yes</td>\n",
       "      <td>Credit card (automatic)</td>\n",
       "      <td>102.95</td>\n",
       "      <td>6886.25</td>\n",
       "      <td>Yes</td>\n",
       "    </tr>\n",
       "    <tr>\n",
       "      <th>3737</th>\n",
       "      <td>3737</td>\n",
       "      <td>Male</td>\n",
       "      <td>1</td>\n",
       "      <td>No</td>\n",
       "      <td>4</td>\n",
       "      <td>Fiber optic</td>\n",
       "      <td>No</td>\n",
       "      <td>No</td>\n",
       "      <td>No</td>\n",
       "      <td>No</td>\n",
       "      <td>Month-to-month</td>\n",
       "      <td>Yes</td>\n",
       "      <td>Mailed check</td>\n",
       "      <td>74.40</td>\n",
       "      <td>306.60</td>\n",
       "      <td>Yes</td>\n",
       "    </tr>\n",
       "  </tbody>\n",
       "</table>\n",
       "<p>3738 rows × 16 columns</p>\n",
       "</div>"
      ],
      "text/plain": [
       "      Unnamed: 0  gender  SeniorCitizen Dependents  tenure InternetService  \\\n",
       "0              0    Male              0        Yes      34     Fiber optic   \n",
       "1              1    Male              0        Yes      70             DSL   \n",
       "2              2  Female              0         No      69     Fiber optic   \n",
       "3              3  Female              0         No       5              No   \n",
       "4              4  Female              0        Yes      72     Fiber optic   \n",
       "...          ...     ...            ...        ...     ...             ...   \n",
       "3733        3733    Male              0         No      12             DSL   \n",
       "3734        3734  Female              0         No       9             DSL   \n",
       "3735        3735    Male              1         No       1     Fiber optic   \n",
       "3736        3736  Female              0         No      67     Fiber optic   \n",
       "3737        3737    Male              1         No       4     Fiber optic   \n",
       "\n",
       "           OnlineSecurity         OnlineBackup     DeviceProtection  \\\n",
       "0                      No                   No                   No   \n",
       "1                      No                  Yes                  Yes   \n",
       "2                      No                   No                  Yes   \n",
       "3     No internet service  No internet service  No internet service   \n",
       "4                     Yes                  Yes                  Yes   \n",
       "...                   ...                  ...                  ...   \n",
       "3733                   No                   No                   No   \n",
       "3734                   No                   No                   No   \n",
       "3735                   No                   No                   No   \n",
       "3736                  Yes                  Yes                  Yes   \n",
       "3737                   No                   No                   No   \n",
       "\n",
       "              TechSupport        Contract PaperlessBilling  \\\n",
       "0                      No        One year              Yes   \n",
       "1                     Yes        Two year              Yes   \n",
       "2                     Yes        Two year               No   \n",
       "3     No internet service  Month-to-month               No   \n",
       "4                     Yes        Two year              Yes   \n",
       "...                   ...             ...              ...   \n",
       "3733                  Yes        One year              Yes   \n",
       "3734                   No  Month-to-month              Yes   \n",
       "3735                   No  Month-to-month              Yes   \n",
       "3736                   No  Month-to-month              Yes   \n",
       "3737                   No  Month-to-month              Yes   \n",
       "\n",
       "                  PaymentMethod  MonthlyCharges  TotalCharges Churn  \n",
       "0     Bank transfer (automatic)           78.95       2647.20    No  \n",
       "1       Credit card (automatic)           85.95       5931.75    No  \n",
       "2              Electronic check          104.00       7028.50    No  \n",
       "3       Credit card (automatic)           20.55         96.10    No  \n",
       "4     Bank transfer (automatic)          113.10       8248.50    No  \n",
       "...                         ...             ...           ...   ...  \n",
       "3733           Electronic check           59.80        727.80   Yes  \n",
       "3734  Bank transfer (automatic)           44.20        403.35   Yes  \n",
       "3735           Electronic check           75.75         75.75   Yes  \n",
       "3736    Credit card (automatic)          102.95       6886.25   Yes  \n",
       "3737               Mailed check           74.40        306.60   Yes  \n",
       "\n",
       "[3738 rows x 16 columns]"
      ]
     },
     "execution_count": 2,
     "metadata": {},
     "output_type": "execute_result"
    }
   ],
   "source": [
    "df = pd.read_csv(\"final.csv\")\n",
    "df"
   ]
  },
  {
   "cell_type": "code",
   "execution_count": 3,
   "id": "94275521",
   "metadata": {},
   "outputs": [],
   "source": [
    "from sklearn.pipeline import Pipeline"
   ]
  },
  {
   "cell_type": "code",
   "execution_count": 4,
   "id": "49263105",
   "metadata": {},
   "outputs": [],
   "source": [
    "from sklearn.preprocessing import LabelEncoder\n",
    "from sklearn.ensemble import RandomForestClassifier\n",
    "from sklearn.preprocessing import StandardScaler"
   ]
  },
  {
   "cell_type": "code",
   "execution_count": 7,
   "id": "458669af",
   "metadata": {},
   "outputs": [
    {
     "name": "stdout",
     "output_type": "stream",
     "text": [
      "Collecting sklearn_pandas\n",
      "  Downloading sklearn_pandas-2.2.0-py2.py3-none-any.whl (10 kB)\n",
      "Requirement already satisfied: numpy>=1.18.1 in c:\\users\\ankit\\appdata\\local\\programs\\python\\python38\\lib\\site-packages (from sklearn_pandas) (1.22.4)\n",
      "Requirement already satisfied: scikit-learn>=0.23.0 in c:\\users\\ankit\\appdata\\local\\programs\\python\\python38\\lib\\site-packages (from sklearn_pandas) (1.1.2)\n",
      "Requirement already satisfied: pandas>=1.1.4 in c:\\users\\ankit\\appdata\\local\\programs\\python\\python38\\lib\\site-packages (from sklearn_pandas) (1.4.2)\n",
      "Requirement already satisfied: scipy>=1.5.1 in c:\\users\\ankit\\appdata\\local\\programs\\python\\python38\\lib\\site-packages (from sklearn_pandas) (1.8.1)\n",
      "Requirement already satisfied: pytz>=2020.1 in c:\\users\\ankit\\appdata\\local\\programs\\python\\python38\\lib\\site-packages (from pandas>=1.1.4->sklearn_pandas) (2022.1)\n",
      "Requirement already satisfied: python-dateutil>=2.8.1 in c:\\users\\ankit\\appdata\\local\\programs\\python\\python38\\lib\\site-packages (from pandas>=1.1.4->sklearn_pandas) (2.8.2)\n",
      "Requirement already satisfied: six>=1.5 in c:\\users\\ankit\\appdata\\local\\programs\\python\\python38\\lib\\site-packages (from python-dateutil>=2.8.1->pandas>=1.1.4->sklearn_pandas) (1.16.0)\n",
      "Requirement already satisfied: joblib>=1.0.0 in c:\\users\\ankit\\appdata\\local\\programs\\python\\python38\\lib\\site-packages (from scikit-learn>=0.23.0->sklearn_pandas) (1.1.0)\n",
      "Requirement already satisfied: threadpoolctl>=2.0.0 in c:\\users\\ankit\\appdata\\local\\programs\\python\\python38\\lib\\site-packages (from scikit-learn>=0.23.0->sklearn_pandas) (3.1.0)\n",
      "Installing collected packages: sklearn-pandas\n",
      "Successfully installed sklearn-pandas-2.2.0\n"
     ]
    },
    {
     "name": "stderr",
     "output_type": "stream",
     "text": [
      "WARNING: You are using pip version 21.1.1; however, version 22.2.2 is available.\n",
      "You should consider upgrading via the 'c:\\users\\ankit\\appdata\\local\\programs\\python\\python38\\python.exe -m pip install --upgrade pip' command.\n"
     ]
    }
   ],
   "source": [
    "#!pip install sklearn_pandas"
   ]
  },
  {
   "cell_type": "code",
   "execution_count": 8,
   "id": "955301fc",
   "metadata": {},
   "outputs": [],
   "source": [
    "from sklearn_pandas import DataFrameMapper"
   ]
  },
  {
   "cell_type": "code",
   "execution_count": 9,
   "id": "a7ceff76",
   "metadata": {},
   "outputs": [],
   "source": [
    "df = df.drop(\"Unnamed: 0\",axis=1)"
   ]
  },
  {
   "cell_type": "code",
   "execution_count": 10,
   "id": "6b861e90",
   "metadata": {},
   "outputs": [
    {
     "name": "stdout",
     "output_type": "stream",
     "text": [
      "<class 'pandas.core.frame.DataFrame'>\n",
      "RangeIndex: 3738 entries, 0 to 3737\n",
      "Data columns (total 15 columns):\n",
      " #   Column            Non-Null Count  Dtype  \n",
      "---  ------            --------------  -----  \n",
      " 0   gender            3738 non-null   object \n",
      " 1   SeniorCitizen     3738 non-null   int64  \n",
      " 2   Dependents        3738 non-null   object \n",
      " 3   tenure            3738 non-null   int64  \n",
      " 4   InternetService   3738 non-null   object \n",
      " 5   OnlineSecurity    3738 non-null   object \n",
      " 6   OnlineBackup      3738 non-null   object \n",
      " 7   DeviceProtection  3738 non-null   object \n",
      " 8   TechSupport       3738 non-null   object \n",
      " 9   Contract          3738 non-null   object \n",
      " 10  PaperlessBilling  3738 non-null   object \n",
      " 11  PaymentMethod     3738 non-null   object \n",
      " 12  MonthlyCharges    3738 non-null   float64\n",
      " 13  TotalCharges      3738 non-null   float64\n",
      " 14  Churn             3738 non-null   object \n",
      "dtypes: float64(2), int64(2), object(11)\n",
      "memory usage: 438.2+ KB\n"
     ]
    }
   ],
   "source": [
    "df.info()"
   ]
  },
  {
   "cell_type": "code",
   "execution_count": 11,
   "id": "5bdbe6f6",
   "metadata": {},
   "outputs": [
    {
     "data": {
      "text/plain": [
       "Index(['gender', 'Dependents', 'InternetService', 'OnlineSecurity',\n",
       "       'OnlineBackup', 'DeviceProtection', 'TechSupport', 'Contract',\n",
       "       'PaperlessBilling', 'PaymentMethod', 'Churn'],\n",
       "      dtype='object')"
      ]
     },
     "execution_count": 11,
     "metadata": {},
     "output_type": "execute_result"
    }
   ],
   "source": [
    "col = df.columns[df.dtypes==\"object\"]\n",
    "col"
   ]
  },
  {
   "cell_type": "code",
   "execution_count": 12,
   "id": "8772961b",
   "metadata": {},
   "outputs": [],
   "source": [
    "m = DataFrameMapper([([\"gender\",LabelEncoder()]),([\"Dependents\",LabelEncoder()]),\n",
    "                     ([\"InternetService\",LabelEncoder()]),([\"OnlineSecurity\",LabelEncoder()]),\n",
    "                     ([\"OnlineBackup\",LabelEncoder()]),([\"DeviceProtection\",LabelEncoder()]),\n",
    "                     ([\"TechSupport\",LabelEncoder()]),([\"Contract\",LabelEncoder()]),\n",
    "                     ([\"PaperlessBilling\",LabelEncoder()]),([\"PaymentMethod\",LabelEncoder()])\n",
    "                    \n",
    "                ])"
   ]
  },
  {
   "cell_type": "code",
   "execution_count": 13,
   "id": "d4b51ea6",
   "metadata": {},
   "outputs": [],
   "source": [
    "classifier = []\n",
    "classifier.append((\"mapper\",m))\n",
    "classifier.append(('standardize', StandardScaler()))\n",
    "classifier.append((\"model\",RandomForestClassifier(criterion=\"gini\",max_depth=8,n_estimators=50)))\n"
   ]
  },
  {
   "cell_type": "code",
   "execution_count": 14,
   "id": "9413081b",
   "metadata": {},
   "outputs": [
    {
     "data": {
      "text/plain": [
       "[('mapper',\n",
       "  DataFrameMapper(drop_cols=[],\n",
       "                  features=[['gender', LabelEncoder()],\n",
       "                            ['Dependents', LabelEncoder()],\n",
       "                            ['InternetService', LabelEncoder()],\n",
       "                            ['OnlineSecurity', LabelEncoder()],\n",
       "                            ['OnlineBackup', LabelEncoder()],\n",
       "                            ['DeviceProtection', LabelEncoder()],\n",
       "                            ['TechSupport', LabelEncoder()],\n",
       "                            ['Contract', LabelEncoder()],\n",
       "                            ['PaperlessBilling', LabelEncoder()],\n",
       "                            ['PaymentMethod', LabelEncoder()]])),\n",
       " ('standardize', StandardScaler()),\n",
       " ('model', RandomForestClassifier(max_depth=8, n_estimators=50))]"
      ]
     },
     "execution_count": 14,
     "metadata": {},
     "output_type": "execute_result"
    }
   ],
   "source": [
    "classifier"
   ]
  },
  {
   "cell_type": "code",
   "execution_count": 15,
   "id": "c68f2e5b",
   "metadata": {},
   "outputs": [],
   "source": [
    "X = df.drop(\"Churn\",axis=1)\n",
    "y = df[\"Churn\"]"
   ]
  },
  {
   "cell_type": "code",
   "execution_count": null,
   "id": "15393289",
   "metadata": {},
   "outputs": [],
   "source": []
  },
  {
   "cell_type": "code",
   "execution_count": 16,
   "id": "1dd2004e",
   "metadata": {},
   "outputs": [
    {
     "data": {
      "text/html": [
       "<style>#sk-container-id-1 {color: black;background-color: white;}#sk-container-id-1 pre{padding: 0;}#sk-container-id-1 div.sk-toggleable {background-color: white;}#sk-container-id-1 label.sk-toggleable__label {cursor: pointer;display: block;width: 100%;margin-bottom: 0;padding: 0.3em;box-sizing: border-box;text-align: center;}#sk-container-id-1 label.sk-toggleable__label-arrow:before {content: \"▸\";float: left;margin-right: 0.25em;color: #696969;}#sk-container-id-1 label.sk-toggleable__label-arrow:hover:before {color: black;}#sk-container-id-1 div.sk-estimator:hover label.sk-toggleable__label-arrow:before {color: black;}#sk-container-id-1 div.sk-toggleable__content {max-height: 0;max-width: 0;overflow: hidden;text-align: left;background-color: #f0f8ff;}#sk-container-id-1 div.sk-toggleable__content pre {margin: 0.2em;color: black;border-radius: 0.25em;background-color: #f0f8ff;}#sk-container-id-1 input.sk-toggleable__control:checked~div.sk-toggleable__content {max-height: 200px;max-width: 100%;overflow: auto;}#sk-container-id-1 input.sk-toggleable__control:checked~label.sk-toggleable__label-arrow:before {content: \"▾\";}#sk-container-id-1 div.sk-estimator input.sk-toggleable__control:checked~label.sk-toggleable__label {background-color: #d4ebff;}#sk-container-id-1 div.sk-label input.sk-toggleable__control:checked~label.sk-toggleable__label {background-color: #d4ebff;}#sk-container-id-1 input.sk-hidden--visually {border: 0;clip: rect(1px 1px 1px 1px);clip: rect(1px, 1px, 1px, 1px);height: 1px;margin: -1px;overflow: hidden;padding: 0;position: absolute;width: 1px;}#sk-container-id-1 div.sk-estimator {font-family: monospace;background-color: #f0f8ff;border: 1px dotted black;border-radius: 0.25em;box-sizing: border-box;margin-bottom: 0.5em;}#sk-container-id-1 div.sk-estimator:hover {background-color: #d4ebff;}#sk-container-id-1 div.sk-parallel-item::after {content: \"\";width: 100%;border-bottom: 1px solid gray;flex-grow: 1;}#sk-container-id-1 div.sk-label:hover label.sk-toggleable__label {background-color: #d4ebff;}#sk-container-id-1 div.sk-serial::before {content: \"\";position: absolute;border-left: 1px solid gray;box-sizing: border-box;top: 0;bottom: 0;left: 50%;z-index: 0;}#sk-container-id-1 div.sk-serial {display: flex;flex-direction: column;align-items: center;background-color: white;padding-right: 0.2em;padding-left: 0.2em;position: relative;}#sk-container-id-1 div.sk-item {position: relative;z-index: 1;}#sk-container-id-1 div.sk-parallel {display: flex;align-items: stretch;justify-content: center;background-color: white;position: relative;}#sk-container-id-1 div.sk-item::before, #sk-container-id-1 div.sk-parallel-item::before {content: \"\";position: absolute;border-left: 1px solid gray;box-sizing: border-box;top: 0;bottom: 0;left: 50%;z-index: -1;}#sk-container-id-1 div.sk-parallel-item {display: flex;flex-direction: column;z-index: 1;position: relative;background-color: white;}#sk-container-id-1 div.sk-parallel-item:first-child::after {align-self: flex-end;width: 50%;}#sk-container-id-1 div.sk-parallel-item:last-child::after {align-self: flex-start;width: 50%;}#sk-container-id-1 div.sk-parallel-item:only-child::after {width: 0;}#sk-container-id-1 div.sk-dashed-wrapped {border: 1px dashed gray;margin: 0 0.4em 0.5em 0.4em;box-sizing: border-box;padding-bottom: 0.4em;background-color: white;}#sk-container-id-1 div.sk-label label {font-family: monospace;font-weight: bold;display: inline-block;line-height: 1.2em;}#sk-container-id-1 div.sk-label-container {text-align: center;}#sk-container-id-1 div.sk-container {/* jupyter's `normalize.less` sets `[hidden] { display: none; }` but bootstrap.min.css set `[hidden] { display: none !important; }` so we also need the `!important` here to be able to override the default hidden behavior on the sphinx rendered scikit-learn.org. See: https://github.com/scikit-learn/scikit-learn/issues/21755 */display: inline-block !important;position: relative;}#sk-container-id-1 div.sk-text-repr-fallback {display: none;}</style><div id=\"sk-container-id-1\" class=\"sk-top-container\"><div class=\"sk-text-repr-fallback\"><pre>Pipeline(steps=[(&#x27;mapper&#x27;,\n",
       "                 DataFrameMapper(drop_cols=[],\n",
       "                                 features=[[&#x27;gender&#x27;, LabelEncoder()],\n",
       "                                           [&#x27;Dependents&#x27;, LabelEncoder()],\n",
       "                                           [&#x27;InternetService&#x27;, LabelEncoder()],\n",
       "                                           [&#x27;OnlineSecurity&#x27;, LabelEncoder()],\n",
       "                                           [&#x27;OnlineBackup&#x27;, LabelEncoder()],\n",
       "                                           [&#x27;DeviceProtection&#x27;, LabelEncoder()],\n",
       "                                           [&#x27;TechSupport&#x27;, LabelEncoder()],\n",
       "                                           [&#x27;Contract&#x27;, LabelEncoder()],\n",
       "                                           [&#x27;PaperlessBilling&#x27;, LabelEncoder()],\n",
       "                                           [&#x27;PaymentMethod&#x27;, LabelEncoder()]])),\n",
       "                (&#x27;standardize&#x27;, StandardScaler()),\n",
       "                (&#x27;model&#x27;,\n",
       "                 RandomForestClassifier(max_depth=8, n_estimators=50))])</pre><b>In a Jupyter environment, please rerun this cell to show the HTML representation or trust the notebook. <br />On GitHub, the HTML representation is unable to render, please try loading this page with nbviewer.org.</b></div><div class=\"sk-container\" hidden><div class=\"sk-item sk-dashed-wrapped\"><div class=\"sk-label-container\"><div class=\"sk-label sk-toggleable\"><input class=\"sk-toggleable__control sk-hidden--visually\" id=\"sk-estimator-id-1\" type=\"checkbox\" ><label for=\"sk-estimator-id-1\" class=\"sk-toggleable__label sk-toggleable__label-arrow\">Pipeline</label><div class=\"sk-toggleable__content\"><pre>Pipeline(steps=[(&#x27;mapper&#x27;,\n",
       "                 DataFrameMapper(drop_cols=[],\n",
       "                                 features=[[&#x27;gender&#x27;, LabelEncoder()],\n",
       "                                           [&#x27;Dependents&#x27;, LabelEncoder()],\n",
       "                                           [&#x27;InternetService&#x27;, LabelEncoder()],\n",
       "                                           [&#x27;OnlineSecurity&#x27;, LabelEncoder()],\n",
       "                                           [&#x27;OnlineBackup&#x27;, LabelEncoder()],\n",
       "                                           [&#x27;DeviceProtection&#x27;, LabelEncoder()],\n",
       "                                           [&#x27;TechSupport&#x27;, LabelEncoder()],\n",
       "                                           [&#x27;Contract&#x27;, LabelEncoder()],\n",
       "                                           [&#x27;PaperlessBilling&#x27;, LabelEncoder()],\n",
       "                                           [&#x27;PaymentMethod&#x27;, LabelEncoder()]])),\n",
       "                (&#x27;standardize&#x27;, StandardScaler()),\n",
       "                (&#x27;model&#x27;,\n",
       "                 RandomForestClassifier(max_depth=8, n_estimators=50))])</pre></div></div></div><div class=\"sk-serial\"><div class=\"sk-item\"><div class=\"sk-estimator sk-toggleable\"><input class=\"sk-toggleable__control sk-hidden--visually\" id=\"sk-estimator-id-2\" type=\"checkbox\" ><label for=\"sk-estimator-id-2\" class=\"sk-toggleable__label sk-toggleable__label-arrow\">DataFrameMapper</label><div class=\"sk-toggleable__content\"><pre>DataFrameMapper(drop_cols=[],\n",
       "                features=[[&#x27;gender&#x27;, LabelEncoder()],\n",
       "                          [&#x27;Dependents&#x27;, LabelEncoder()],\n",
       "                          [&#x27;InternetService&#x27;, LabelEncoder()],\n",
       "                          [&#x27;OnlineSecurity&#x27;, LabelEncoder()],\n",
       "                          [&#x27;OnlineBackup&#x27;, LabelEncoder()],\n",
       "                          [&#x27;DeviceProtection&#x27;, LabelEncoder()],\n",
       "                          [&#x27;TechSupport&#x27;, LabelEncoder()],\n",
       "                          [&#x27;Contract&#x27;, LabelEncoder()],\n",
       "                          [&#x27;PaperlessBilling&#x27;, LabelEncoder()],\n",
       "                          [&#x27;PaymentMethod&#x27;, LabelEncoder()]])</pre></div></div></div><div class=\"sk-item\"><div class=\"sk-estimator sk-toggleable\"><input class=\"sk-toggleable__control sk-hidden--visually\" id=\"sk-estimator-id-3\" type=\"checkbox\" ><label for=\"sk-estimator-id-3\" class=\"sk-toggleable__label sk-toggleable__label-arrow\">StandardScaler</label><div class=\"sk-toggleable__content\"><pre>StandardScaler()</pre></div></div></div><div class=\"sk-item\"><div class=\"sk-estimator sk-toggleable\"><input class=\"sk-toggleable__control sk-hidden--visually\" id=\"sk-estimator-id-4\" type=\"checkbox\" ><label for=\"sk-estimator-id-4\" class=\"sk-toggleable__label sk-toggleable__label-arrow\">RandomForestClassifier</label><div class=\"sk-toggleable__content\"><pre>RandomForestClassifier(max_depth=8, n_estimators=50)</pre></div></div></div></div></div></div></div>"
      ],
      "text/plain": [
       "Pipeline(steps=[('mapper',\n",
       "                 DataFrameMapper(drop_cols=[],\n",
       "                                 features=[['gender', LabelEncoder()],\n",
       "                                           ['Dependents', LabelEncoder()],\n",
       "                                           ['InternetService', LabelEncoder()],\n",
       "                                           ['OnlineSecurity', LabelEncoder()],\n",
       "                                           ['OnlineBackup', LabelEncoder()],\n",
       "                                           ['DeviceProtection', LabelEncoder()],\n",
       "                                           ['TechSupport', LabelEncoder()],\n",
       "                                           ['Contract', LabelEncoder()],\n",
       "                                           ['PaperlessBilling', LabelEncoder()],\n",
       "                                           ['PaymentMethod', LabelEncoder()]])),\n",
       "                ('standardize', StandardScaler()),\n",
       "                ('model',\n",
       "                 RandomForestClassifier(max_depth=8, n_estimators=50))])"
      ]
     },
     "execution_count": 16,
     "metadata": {},
     "output_type": "execute_result"
    }
   ],
   "source": [
    "model = Pipeline(classifier)\n",
    "model"
   ]
  },
  {
   "cell_type": "code",
   "execution_count": 17,
   "id": "af3ac884",
   "metadata": {},
   "outputs": [
    {
     "data": {
      "text/html": [
       "<style>#sk-container-id-2 {color: black;background-color: white;}#sk-container-id-2 pre{padding: 0;}#sk-container-id-2 div.sk-toggleable {background-color: white;}#sk-container-id-2 label.sk-toggleable__label {cursor: pointer;display: block;width: 100%;margin-bottom: 0;padding: 0.3em;box-sizing: border-box;text-align: center;}#sk-container-id-2 label.sk-toggleable__label-arrow:before {content: \"▸\";float: left;margin-right: 0.25em;color: #696969;}#sk-container-id-2 label.sk-toggleable__label-arrow:hover:before {color: black;}#sk-container-id-2 div.sk-estimator:hover label.sk-toggleable__label-arrow:before {color: black;}#sk-container-id-2 div.sk-toggleable__content {max-height: 0;max-width: 0;overflow: hidden;text-align: left;background-color: #f0f8ff;}#sk-container-id-2 div.sk-toggleable__content pre {margin: 0.2em;color: black;border-radius: 0.25em;background-color: #f0f8ff;}#sk-container-id-2 input.sk-toggleable__control:checked~div.sk-toggleable__content {max-height: 200px;max-width: 100%;overflow: auto;}#sk-container-id-2 input.sk-toggleable__control:checked~label.sk-toggleable__label-arrow:before {content: \"▾\";}#sk-container-id-2 div.sk-estimator input.sk-toggleable__control:checked~label.sk-toggleable__label {background-color: #d4ebff;}#sk-container-id-2 div.sk-label input.sk-toggleable__control:checked~label.sk-toggleable__label {background-color: #d4ebff;}#sk-container-id-2 input.sk-hidden--visually {border: 0;clip: rect(1px 1px 1px 1px);clip: rect(1px, 1px, 1px, 1px);height: 1px;margin: -1px;overflow: hidden;padding: 0;position: absolute;width: 1px;}#sk-container-id-2 div.sk-estimator {font-family: monospace;background-color: #f0f8ff;border: 1px dotted black;border-radius: 0.25em;box-sizing: border-box;margin-bottom: 0.5em;}#sk-container-id-2 div.sk-estimator:hover {background-color: #d4ebff;}#sk-container-id-2 div.sk-parallel-item::after {content: \"\";width: 100%;border-bottom: 1px solid gray;flex-grow: 1;}#sk-container-id-2 div.sk-label:hover label.sk-toggleable__label {background-color: #d4ebff;}#sk-container-id-2 div.sk-serial::before {content: \"\";position: absolute;border-left: 1px solid gray;box-sizing: border-box;top: 0;bottom: 0;left: 50%;z-index: 0;}#sk-container-id-2 div.sk-serial {display: flex;flex-direction: column;align-items: center;background-color: white;padding-right: 0.2em;padding-left: 0.2em;position: relative;}#sk-container-id-2 div.sk-item {position: relative;z-index: 1;}#sk-container-id-2 div.sk-parallel {display: flex;align-items: stretch;justify-content: center;background-color: white;position: relative;}#sk-container-id-2 div.sk-item::before, #sk-container-id-2 div.sk-parallel-item::before {content: \"\";position: absolute;border-left: 1px solid gray;box-sizing: border-box;top: 0;bottom: 0;left: 50%;z-index: -1;}#sk-container-id-2 div.sk-parallel-item {display: flex;flex-direction: column;z-index: 1;position: relative;background-color: white;}#sk-container-id-2 div.sk-parallel-item:first-child::after {align-self: flex-end;width: 50%;}#sk-container-id-2 div.sk-parallel-item:last-child::after {align-self: flex-start;width: 50%;}#sk-container-id-2 div.sk-parallel-item:only-child::after {width: 0;}#sk-container-id-2 div.sk-dashed-wrapped {border: 1px dashed gray;margin: 0 0.4em 0.5em 0.4em;box-sizing: border-box;padding-bottom: 0.4em;background-color: white;}#sk-container-id-2 div.sk-label label {font-family: monospace;font-weight: bold;display: inline-block;line-height: 1.2em;}#sk-container-id-2 div.sk-label-container {text-align: center;}#sk-container-id-2 div.sk-container {/* jupyter's `normalize.less` sets `[hidden] { display: none; }` but bootstrap.min.css set `[hidden] { display: none !important; }` so we also need the `!important` here to be able to override the default hidden behavior on the sphinx rendered scikit-learn.org. See: https://github.com/scikit-learn/scikit-learn/issues/21755 */display: inline-block !important;position: relative;}#sk-container-id-2 div.sk-text-repr-fallback {display: none;}</style><div id=\"sk-container-id-2\" class=\"sk-top-container\"><div class=\"sk-text-repr-fallback\"><pre>Pipeline(steps=[(&#x27;mapper&#x27;,\n",
       "                 DataFrameMapper(drop_cols=[],\n",
       "                                 features=[[&#x27;gender&#x27;, LabelEncoder()],\n",
       "                                           [&#x27;Dependents&#x27;, LabelEncoder()],\n",
       "                                           [&#x27;InternetService&#x27;, LabelEncoder()],\n",
       "                                           [&#x27;OnlineSecurity&#x27;, LabelEncoder()],\n",
       "                                           [&#x27;OnlineBackup&#x27;, LabelEncoder()],\n",
       "                                           [&#x27;DeviceProtection&#x27;, LabelEncoder()],\n",
       "                                           [&#x27;TechSupport&#x27;, LabelEncoder()],\n",
       "                                           [&#x27;Contract&#x27;, LabelEncoder()],\n",
       "                                           [&#x27;PaperlessBilling&#x27;, LabelEncoder()],\n",
       "                                           [&#x27;PaymentMethod&#x27;, LabelEncoder()]])),\n",
       "                (&#x27;standardize&#x27;, StandardScaler()),\n",
       "                (&#x27;model&#x27;,\n",
       "                 RandomForestClassifier(max_depth=8, n_estimators=50))])</pre><b>In a Jupyter environment, please rerun this cell to show the HTML representation or trust the notebook. <br />On GitHub, the HTML representation is unable to render, please try loading this page with nbviewer.org.</b></div><div class=\"sk-container\" hidden><div class=\"sk-item sk-dashed-wrapped\"><div class=\"sk-label-container\"><div class=\"sk-label sk-toggleable\"><input class=\"sk-toggleable__control sk-hidden--visually\" id=\"sk-estimator-id-5\" type=\"checkbox\" ><label for=\"sk-estimator-id-5\" class=\"sk-toggleable__label sk-toggleable__label-arrow\">Pipeline</label><div class=\"sk-toggleable__content\"><pre>Pipeline(steps=[(&#x27;mapper&#x27;,\n",
       "                 DataFrameMapper(drop_cols=[],\n",
       "                                 features=[[&#x27;gender&#x27;, LabelEncoder()],\n",
       "                                           [&#x27;Dependents&#x27;, LabelEncoder()],\n",
       "                                           [&#x27;InternetService&#x27;, LabelEncoder()],\n",
       "                                           [&#x27;OnlineSecurity&#x27;, LabelEncoder()],\n",
       "                                           [&#x27;OnlineBackup&#x27;, LabelEncoder()],\n",
       "                                           [&#x27;DeviceProtection&#x27;, LabelEncoder()],\n",
       "                                           [&#x27;TechSupport&#x27;, LabelEncoder()],\n",
       "                                           [&#x27;Contract&#x27;, LabelEncoder()],\n",
       "                                           [&#x27;PaperlessBilling&#x27;, LabelEncoder()],\n",
       "                                           [&#x27;PaymentMethod&#x27;, LabelEncoder()]])),\n",
       "                (&#x27;standardize&#x27;, StandardScaler()),\n",
       "                (&#x27;model&#x27;,\n",
       "                 RandomForestClassifier(max_depth=8, n_estimators=50))])</pre></div></div></div><div class=\"sk-serial\"><div class=\"sk-item\"><div class=\"sk-estimator sk-toggleable\"><input class=\"sk-toggleable__control sk-hidden--visually\" id=\"sk-estimator-id-6\" type=\"checkbox\" ><label for=\"sk-estimator-id-6\" class=\"sk-toggleable__label sk-toggleable__label-arrow\">DataFrameMapper</label><div class=\"sk-toggleable__content\"><pre>DataFrameMapper(drop_cols=[],\n",
       "                features=[[&#x27;gender&#x27;, LabelEncoder()],\n",
       "                          [&#x27;Dependents&#x27;, LabelEncoder()],\n",
       "                          [&#x27;InternetService&#x27;, LabelEncoder()],\n",
       "                          [&#x27;OnlineSecurity&#x27;, LabelEncoder()],\n",
       "                          [&#x27;OnlineBackup&#x27;, LabelEncoder()],\n",
       "                          [&#x27;DeviceProtection&#x27;, LabelEncoder()],\n",
       "                          [&#x27;TechSupport&#x27;, LabelEncoder()],\n",
       "                          [&#x27;Contract&#x27;, LabelEncoder()],\n",
       "                          [&#x27;PaperlessBilling&#x27;, LabelEncoder()],\n",
       "                          [&#x27;PaymentMethod&#x27;, LabelEncoder()]])</pre></div></div></div><div class=\"sk-item\"><div class=\"sk-estimator sk-toggleable\"><input class=\"sk-toggleable__control sk-hidden--visually\" id=\"sk-estimator-id-7\" type=\"checkbox\" ><label for=\"sk-estimator-id-7\" class=\"sk-toggleable__label sk-toggleable__label-arrow\">StandardScaler</label><div class=\"sk-toggleable__content\"><pre>StandardScaler()</pre></div></div></div><div class=\"sk-item\"><div class=\"sk-estimator sk-toggleable\"><input class=\"sk-toggleable__control sk-hidden--visually\" id=\"sk-estimator-id-8\" type=\"checkbox\" ><label for=\"sk-estimator-id-8\" class=\"sk-toggleable__label sk-toggleable__label-arrow\">RandomForestClassifier</label><div class=\"sk-toggleable__content\"><pre>RandomForestClassifier(max_depth=8, n_estimators=50)</pre></div></div></div></div></div></div></div>"
      ],
      "text/plain": [
       "Pipeline(steps=[('mapper',\n",
       "                 DataFrameMapper(drop_cols=[],\n",
       "                                 features=[['gender', LabelEncoder()],\n",
       "                                           ['Dependents', LabelEncoder()],\n",
       "                                           ['InternetService', LabelEncoder()],\n",
       "                                           ['OnlineSecurity', LabelEncoder()],\n",
       "                                           ['OnlineBackup', LabelEncoder()],\n",
       "                                           ['DeviceProtection', LabelEncoder()],\n",
       "                                           ['TechSupport', LabelEncoder()],\n",
       "                                           ['Contract', LabelEncoder()],\n",
       "                                           ['PaperlessBilling', LabelEncoder()],\n",
       "                                           ['PaymentMethod', LabelEncoder()]])),\n",
       "                ('standardize', StandardScaler()),\n",
       "                ('model',\n",
       "                 RandomForestClassifier(max_depth=8, n_estimators=50))])"
      ]
     },
     "execution_count": 17,
     "metadata": {},
     "output_type": "execute_result"
    }
   ],
   "source": [
    "model.fit(X,y)"
   ]
  },
  {
   "cell_type": "markdown",
   "id": "ba71487d",
   "metadata": {},
   "source": [
    "# User Testing"
   ]
  },
  {
   "cell_type": "code",
   "execution_count": 18,
   "id": "64f6d0b2",
   "metadata": {},
   "outputs": [
    {
     "data": {
      "text/plain": [
       "gender                          Male\n",
       "SeniorCitizen                      0\n",
       "Dependents                       Yes\n",
       "tenure                            42\n",
       "InternetService          Fiber optic\n",
       "OnlineSecurity                   Yes\n",
       "OnlineBackup                      No\n",
       "DeviceProtection                  No\n",
       "TechSupport                       No\n",
       "Contract                    One year\n",
       "PaperlessBilling                  No\n",
       "PaymentMethod       Electronic check\n",
       "MonthlyCharges                  97.1\n",
       "TotalCharges                 4016.75\n",
       "Churn                             No\n",
       "Name: 7, dtype: object"
      ]
     },
     "execution_count": 18,
     "metadata": {},
     "output_type": "execute_result"
    }
   ],
   "source": [
    "df.iloc[7,:]"
   ]
  },
  {
   "cell_type": "code",
   "execution_count": 19,
   "id": "d303df6e",
   "metadata": {},
   "outputs": [
    {
     "data": {
      "text/plain": [
       "{'gender': 'Male',\n",
       " 'SeniorCitizen': 0,\n",
       " 'Dependents': 'Yes',\n",
       " 'tenure': 42,\n",
       " 'InternetService': 'Fiber optic',\n",
       " 'OnlineSecurity': 'Yes',\n",
       " 'OnlineBackup': 'No',\n",
       " 'DeviceProtection': 'No',\n",
       " 'TechSupport': 'No',\n",
       " 'Contract': 'One year',\n",
       " 'PaperlessBilling': 'No',\n",
       " 'PaymentMethod': 'Electronic check',\n",
       " 'MonthlyCharges': 97.1,\n",
       " 'TotalCharges': 4016.75,\n",
       " 'Churn': 'No'}"
      ]
     },
     "execution_count": 19,
     "metadata": {},
     "output_type": "execute_result"
    }
   ],
   "source": [
    "dict(df.iloc[7,:])"
   ]
  },
  {
   "cell_type": "code",
   "execution_count": 20,
   "id": "8bc0ad85",
   "metadata": {},
   "outputs": [],
   "source": [
    "data = {'gender': 'Female',\n",
    " 'SeniorCitizen': 0,\n",
    " 'Dependents': 'Yes',\n",
    " 'tenure': 42,\n",
    " 'InternetService': 'Fiber optic',\n",
    " 'OnlineSecurity': 'Yes',\n",
    " 'OnlineBackup': 'No',\n",
    " 'DeviceProtection': 'Yes',\n",
    " 'TechSupport': 'No',\n",
    " 'Contract': 'One year',\n",
    " 'PaperlessBilling': 'Yes',\n",
    " 'PaymentMethod': 'Electronic check',\n",
    " 'MonthlyCharges': 97.1,\n",
    " 'TotalCharges': 4016.75}"
   ]
  },
  {
   "cell_type": "code",
   "execution_count": 21,
   "id": "5d4b9634",
   "metadata": {},
   "outputs": [],
   "source": [
    "data_f = pd.DataFrame(data,index=[0])"
   ]
  },
  {
   "cell_type": "code",
   "execution_count": 22,
   "id": "daa76ca1",
   "metadata": {},
   "outputs": [
    {
     "data": {
      "text/html": [
       "<div>\n",
       "<style scoped>\n",
       "    .dataframe tbody tr th:only-of-type {\n",
       "        vertical-align: middle;\n",
       "    }\n",
       "\n",
       "    .dataframe tbody tr th {\n",
       "        vertical-align: top;\n",
       "    }\n",
       "\n",
       "    .dataframe thead th {\n",
       "        text-align: right;\n",
       "    }\n",
       "</style>\n",
       "<table border=\"1\" class=\"dataframe\">\n",
       "  <thead>\n",
       "    <tr style=\"text-align: right;\">\n",
       "      <th></th>\n",
       "      <th>gender</th>\n",
       "      <th>SeniorCitizen</th>\n",
       "      <th>Dependents</th>\n",
       "      <th>tenure</th>\n",
       "      <th>InternetService</th>\n",
       "      <th>OnlineSecurity</th>\n",
       "      <th>OnlineBackup</th>\n",
       "      <th>DeviceProtection</th>\n",
       "      <th>TechSupport</th>\n",
       "      <th>Contract</th>\n",
       "      <th>PaperlessBilling</th>\n",
       "      <th>PaymentMethod</th>\n",
       "      <th>MonthlyCharges</th>\n",
       "      <th>TotalCharges</th>\n",
       "    </tr>\n",
       "  </thead>\n",
       "  <tbody>\n",
       "    <tr>\n",
       "      <th>0</th>\n",
       "      <td>Female</td>\n",
       "      <td>0</td>\n",
       "      <td>Yes</td>\n",
       "      <td>42</td>\n",
       "      <td>Fiber optic</td>\n",
       "      <td>Yes</td>\n",
       "      <td>No</td>\n",
       "      <td>Yes</td>\n",
       "      <td>No</td>\n",
       "      <td>One year</td>\n",
       "      <td>Yes</td>\n",
       "      <td>Electronic check</td>\n",
       "      <td>97.1</td>\n",
       "      <td>4016.75</td>\n",
       "    </tr>\n",
       "  </tbody>\n",
       "</table>\n",
       "</div>"
      ],
      "text/plain": [
       "   gender  SeniorCitizen Dependents  tenure InternetService OnlineSecurity  \\\n",
       "0  Female              0        Yes      42     Fiber optic            Yes   \n",
       "\n",
       "  OnlineBackup DeviceProtection TechSupport  Contract PaperlessBilling  \\\n",
       "0           No              Yes          No  One year              Yes   \n",
       "\n",
       "      PaymentMethod  MonthlyCharges  TotalCharges  \n",
       "0  Electronic check            97.1       4016.75  "
      ]
     },
     "execution_count": 22,
     "metadata": {},
     "output_type": "execute_result"
    }
   ],
   "source": [
    "data_f"
   ]
  },
  {
   "cell_type": "code",
   "execution_count": 23,
   "id": "1eeb98d5",
   "metadata": {},
   "outputs": [
    {
     "data": {
      "text/plain": [
       "array(['Yes'], dtype=object)"
      ]
     },
     "execution_count": 23,
     "metadata": {},
     "output_type": "execute_result"
    }
   ],
   "source": [
    "model.predict(data_f)"
   ]
  },
  {
   "cell_type": "code",
   "execution_count": null,
   "id": "a4cb9a82",
   "metadata": {},
   "outputs": [],
   "source": []
  },
  {
   "cell_type": "markdown",
   "id": "14c88052",
   "metadata": {},
   "source": [
    "# Model Saving"
   ]
  },
  {
   "cell_type": "code",
   "execution_count": 24,
   "id": "00b56122",
   "metadata": {},
   "outputs": [
    {
     "data": {
      "text/html": [
       "<style>#sk-container-id-3 {color: black;background-color: white;}#sk-container-id-3 pre{padding: 0;}#sk-container-id-3 div.sk-toggleable {background-color: white;}#sk-container-id-3 label.sk-toggleable__label {cursor: pointer;display: block;width: 100%;margin-bottom: 0;padding: 0.3em;box-sizing: border-box;text-align: center;}#sk-container-id-3 label.sk-toggleable__label-arrow:before {content: \"▸\";float: left;margin-right: 0.25em;color: #696969;}#sk-container-id-3 label.sk-toggleable__label-arrow:hover:before {color: black;}#sk-container-id-3 div.sk-estimator:hover label.sk-toggleable__label-arrow:before {color: black;}#sk-container-id-3 div.sk-toggleable__content {max-height: 0;max-width: 0;overflow: hidden;text-align: left;background-color: #f0f8ff;}#sk-container-id-3 div.sk-toggleable__content pre {margin: 0.2em;color: black;border-radius: 0.25em;background-color: #f0f8ff;}#sk-container-id-3 input.sk-toggleable__control:checked~div.sk-toggleable__content {max-height: 200px;max-width: 100%;overflow: auto;}#sk-container-id-3 input.sk-toggleable__control:checked~label.sk-toggleable__label-arrow:before {content: \"▾\";}#sk-container-id-3 div.sk-estimator input.sk-toggleable__control:checked~label.sk-toggleable__label {background-color: #d4ebff;}#sk-container-id-3 div.sk-label input.sk-toggleable__control:checked~label.sk-toggleable__label {background-color: #d4ebff;}#sk-container-id-3 input.sk-hidden--visually {border: 0;clip: rect(1px 1px 1px 1px);clip: rect(1px, 1px, 1px, 1px);height: 1px;margin: -1px;overflow: hidden;padding: 0;position: absolute;width: 1px;}#sk-container-id-3 div.sk-estimator {font-family: monospace;background-color: #f0f8ff;border: 1px dotted black;border-radius: 0.25em;box-sizing: border-box;margin-bottom: 0.5em;}#sk-container-id-3 div.sk-estimator:hover {background-color: #d4ebff;}#sk-container-id-3 div.sk-parallel-item::after {content: \"\";width: 100%;border-bottom: 1px solid gray;flex-grow: 1;}#sk-container-id-3 div.sk-label:hover label.sk-toggleable__label {background-color: #d4ebff;}#sk-container-id-3 div.sk-serial::before {content: \"\";position: absolute;border-left: 1px solid gray;box-sizing: border-box;top: 0;bottom: 0;left: 50%;z-index: 0;}#sk-container-id-3 div.sk-serial {display: flex;flex-direction: column;align-items: center;background-color: white;padding-right: 0.2em;padding-left: 0.2em;position: relative;}#sk-container-id-3 div.sk-item {position: relative;z-index: 1;}#sk-container-id-3 div.sk-parallel {display: flex;align-items: stretch;justify-content: center;background-color: white;position: relative;}#sk-container-id-3 div.sk-item::before, #sk-container-id-3 div.sk-parallel-item::before {content: \"\";position: absolute;border-left: 1px solid gray;box-sizing: border-box;top: 0;bottom: 0;left: 50%;z-index: -1;}#sk-container-id-3 div.sk-parallel-item {display: flex;flex-direction: column;z-index: 1;position: relative;background-color: white;}#sk-container-id-3 div.sk-parallel-item:first-child::after {align-self: flex-end;width: 50%;}#sk-container-id-3 div.sk-parallel-item:last-child::after {align-self: flex-start;width: 50%;}#sk-container-id-3 div.sk-parallel-item:only-child::after {width: 0;}#sk-container-id-3 div.sk-dashed-wrapped {border: 1px dashed gray;margin: 0 0.4em 0.5em 0.4em;box-sizing: border-box;padding-bottom: 0.4em;background-color: white;}#sk-container-id-3 div.sk-label label {font-family: monospace;font-weight: bold;display: inline-block;line-height: 1.2em;}#sk-container-id-3 div.sk-label-container {text-align: center;}#sk-container-id-3 div.sk-container {/* jupyter's `normalize.less` sets `[hidden] { display: none; }` but bootstrap.min.css set `[hidden] { display: none !important; }` so we also need the `!important` here to be able to override the default hidden behavior on the sphinx rendered scikit-learn.org. See: https://github.com/scikit-learn/scikit-learn/issues/21755 */display: inline-block !important;position: relative;}#sk-container-id-3 div.sk-text-repr-fallback {display: none;}</style><div id=\"sk-container-id-3\" class=\"sk-top-container\"><div class=\"sk-text-repr-fallback\"><pre>Pipeline(steps=[(&#x27;mapper&#x27;,\n",
       "                 DataFrameMapper(drop_cols=[],\n",
       "                                 features=[[&#x27;gender&#x27;, LabelEncoder()],\n",
       "                                           [&#x27;Dependents&#x27;, LabelEncoder()],\n",
       "                                           [&#x27;InternetService&#x27;, LabelEncoder()],\n",
       "                                           [&#x27;OnlineSecurity&#x27;, LabelEncoder()],\n",
       "                                           [&#x27;OnlineBackup&#x27;, LabelEncoder()],\n",
       "                                           [&#x27;DeviceProtection&#x27;, LabelEncoder()],\n",
       "                                           [&#x27;TechSupport&#x27;, LabelEncoder()],\n",
       "                                           [&#x27;Contract&#x27;, LabelEncoder()],\n",
       "                                           [&#x27;PaperlessBilling&#x27;, LabelEncoder()],\n",
       "                                           [&#x27;PaymentMethod&#x27;, LabelEncoder()]])),\n",
       "                (&#x27;standardize&#x27;, StandardScaler()),\n",
       "                (&#x27;model&#x27;,\n",
       "                 RandomForestClassifier(max_depth=8, n_estimators=50))])</pre><b>In a Jupyter environment, please rerun this cell to show the HTML representation or trust the notebook. <br />On GitHub, the HTML representation is unable to render, please try loading this page with nbviewer.org.</b></div><div class=\"sk-container\" hidden><div class=\"sk-item sk-dashed-wrapped\"><div class=\"sk-label-container\"><div class=\"sk-label sk-toggleable\"><input class=\"sk-toggleable__control sk-hidden--visually\" id=\"sk-estimator-id-9\" type=\"checkbox\" ><label for=\"sk-estimator-id-9\" class=\"sk-toggleable__label sk-toggleable__label-arrow\">Pipeline</label><div class=\"sk-toggleable__content\"><pre>Pipeline(steps=[(&#x27;mapper&#x27;,\n",
       "                 DataFrameMapper(drop_cols=[],\n",
       "                                 features=[[&#x27;gender&#x27;, LabelEncoder()],\n",
       "                                           [&#x27;Dependents&#x27;, LabelEncoder()],\n",
       "                                           [&#x27;InternetService&#x27;, LabelEncoder()],\n",
       "                                           [&#x27;OnlineSecurity&#x27;, LabelEncoder()],\n",
       "                                           [&#x27;OnlineBackup&#x27;, LabelEncoder()],\n",
       "                                           [&#x27;DeviceProtection&#x27;, LabelEncoder()],\n",
       "                                           [&#x27;TechSupport&#x27;, LabelEncoder()],\n",
       "                                           [&#x27;Contract&#x27;, LabelEncoder()],\n",
       "                                           [&#x27;PaperlessBilling&#x27;, LabelEncoder()],\n",
       "                                           [&#x27;PaymentMethod&#x27;, LabelEncoder()]])),\n",
       "                (&#x27;standardize&#x27;, StandardScaler()),\n",
       "                (&#x27;model&#x27;,\n",
       "                 RandomForestClassifier(max_depth=8, n_estimators=50))])</pre></div></div></div><div class=\"sk-serial\"><div class=\"sk-item\"><div class=\"sk-estimator sk-toggleable\"><input class=\"sk-toggleable__control sk-hidden--visually\" id=\"sk-estimator-id-10\" type=\"checkbox\" ><label for=\"sk-estimator-id-10\" class=\"sk-toggleable__label sk-toggleable__label-arrow\">DataFrameMapper</label><div class=\"sk-toggleable__content\"><pre>DataFrameMapper(drop_cols=[],\n",
       "                features=[[&#x27;gender&#x27;, LabelEncoder()],\n",
       "                          [&#x27;Dependents&#x27;, LabelEncoder()],\n",
       "                          [&#x27;InternetService&#x27;, LabelEncoder()],\n",
       "                          [&#x27;OnlineSecurity&#x27;, LabelEncoder()],\n",
       "                          [&#x27;OnlineBackup&#x27;, LabelEncoder()],\n",
       "                          [&#x27;DeviceProtection&#x27;, LabelEncoder()],\n",
       "                          [&#x27;TechSupport&#x27;, LabelEncoder()],\n",
       "                          [&#x27;Contract&#x27;, LabelEncoder()],\n",
       "                          [&#x27;PaperlessBilling&#x27;, LabelEncoder()],\n",
       "                          [&#x27;PaymentMethod&#x27;, LabelEncoder()]])</pre></div></div></div><div class=\"sk-item\"><div class=\"sk-estimator sk-toggleable\"><input class=\"sk-toggleable__control sk-hidden--visually\" id=\"sk-estimator-id-11\" type=\"checkbox\" ><label for=\"sk-estimator-id-11\" class=\"sk-toggleable__label sk-toggleable__label-arrow\">StandardScaler</label><div class=\"sk-toggleable__content\"><pre>StandardScaler()</pre></div></div></div><div class=\"sk-item\"><div class=\"sk-estimator sk-toggleable\"><input class=\"sk-toggleable__control sk-hidden--visually\" id=\"sk-estimator-id-12\" type=\"checkbox\" ><label for=\"sk-estimator-id-12\" class=\"sk-toggleable__label sk-toggleable__label-arrow\">RandomForestClassifier</label><div class=\"sk-toggleable__content\"><pre>RandomForestClassifier(max_depth=8, n_estimators=50)</pre></div></div></div></div></div></div></div>"
      ],
      "text/plain": [
       "Pipeline(steps=[('mapper',\n",
       "                 DataFrameMapper(drop_cols=[],\n",
       "                                 features=[['gender', LabelEncoder()],\n",
       "                                           ['Dependents', LabelEncoder()],\n",
       "                                           ['InternetService', LabelEncoder()],\n",
       "                                           ['OnlineSecurity', LabelEncoder()],\n",
       "                                           ['OnlineBackup', LabelEncoder()],\n",
       "                                           ['DeviceProtection', LabelEncoder()],\n",
       "                                           ['TechSupport', LabelEncoder()],\n",
       "                                           ['Contract', LabelEncoder()],\n",
       "                                           ['PaperlessBilling', LabelEncoder()],\n",
       "                                           ['PaymentMethod', LabelEncoder()]])),\n",
       "                ('standardize', StandardScaler()),\n",
       "                ('model',\n",
       "                 RandomForestClassifier(max_depth=8, n_estimators=50))])"
      ]
     },
     "execution_count": 24,
     "metadata": {},
     "output_type": "execute_result"
    }
   ],
   "source": [
    "model"
   ]
  },
  {
   "cell_type": "code",
   "execution_count": 25,
   "id": "84ef312e",
   "metadata": {},
   "outputs": [],
   "source": [
    "import pickle"
   ]
  },
  {
   "cell_type": "code",
   "execution_count": 26,
   "id": "245f0618",
   "metadata": {},
   "outputs": [],
   "source": [
    "with open(file=\"Final_model.pkl\",mode=\"wb\") as f:\n",
    "    pickle.dump(model,f)"
   ]
  },
  {
   "cell_type": "code",
   "execution_count": null,
   "id": "6464d531",
   "metadata": {},
   "outputs": [],
   "source": []
  },
  {
   "cell_type": "code",
   "execution_count": null,
   "id": "2434a94d",
   "metadata": {},
   "outputs": [],
   "source": []
  },
  {
   "cell_type": "code",
   "execution_count": null,
   "id": "faa8d9ca",
   "metadata": {},
   "outputs": [],
   "source": []
  }
 ],
 "metadata": {
  "kernelspec": {
   "display_name": "Python 3 (ipykernel)",
   "language": "python",
   "name": "python3"
  },
  "language_info": {
   "codemirror_mode": {
    "name": "ipython",
    "version": 3
   },
   "file_extension": ".py",
   "mimetype": "text/x-python",
   "name": "python",
   "nbconvert_exporter": "python",
   "pygments_lexer": "ipython3",
   "version": "3.8.10"
  }
 },
 "nbformat": 4,
 "nbformat_minor": 5
}
