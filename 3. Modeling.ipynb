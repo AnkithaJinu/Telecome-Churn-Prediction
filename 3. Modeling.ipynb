{
 "cells": [
  {
   "cell_type": "code",
   "execution_count": 1,
   "id": "99980037",
   "metadata": {},
   "outputs": [],
   "source": [
    "#Import libraries\n",
    "import pandas as pd\n",
    "import numpy as np\n",
    "import matplotlib.pyplot as plt"
   ]
  },
  {
   "cell_type": "code",
   "execution_count": 2,
   "id": "ed09f53c",
   "metadata": {},
   "outputs": [
    {
     "data": {
      "text/html": [
       "<div>\n",
       "<style scoped>\n",
       "    .dataframe tbody tr th:only-of-type {\n",
       "        vertical-align: middle;\n",
       "    }\n",
       "\n",
       "    .dataframe tbody tr th {\n",
       "        vertical-align: top;\n",
       "    }\n",
       "\n",
       "    .dataframe thead th {\n",
       "        text-align: right;\n",
       "    }\n",
       "</style>\n",
       "<table border=\"1\" class=\"dataframe\">\n",
       "  <thead>\n",
       "    <tr style=\"text-align: right;\">\n",
       "      <th></th>\n",
       "      <th>Unnamed: 0</th>\n",
       "      <th>gender</th>\n",
       "      <th>SeniorCitizen</th>\n",
       "      <th>Dependents</th>\n",
       "      <th>tenure</th>\n",
       "      <th>InternetService</th>\n",
       "      <th>OnlineSecurity</th>\n",
       "      <th>OnlineBackup</th>\n",
       "      <th>DeviceProtection</th>\n",
       "      <th>TechSupport</th>\n",
       "      <th>Contract</th>\n",
       "      <th>PaperlessBilling</th>\n",
       "      <th>PaymentMethod</th>\n",
       "      <th>MonthlyCharges</th>\n",
       "      <th>TotalCharges</th>\n",
       "      <th>Churn</th>\n",
       "    </tr>\n",
       "  </thead>\n",
       "  <tbody>\n",
       "    <tr>\n",
       "      <th>0</th>\n",
       "      <td>0</td>\n",
       "      <td>Male</td>\n",
       "      <td>0</td>\n",
       "      <td>Yes</td>\n",
       "      <td>34</td>\n",
       "      <td>Fiber optic</td>\n",
       "      <td>No</td>\n",
       "      <td>No</td>\n",
       "      <td>No</td>\n",
       "      <td>No</td>\n",
       "      <td>One year</td>\n",
       "      <td>Yes</td>\n",
       "      <td>Bank transfer (automatic)</td>\n",
       "      <td>78.95</td>\n",
       "      <td>2647.20</td>\n",
       "      <td>No</td>\n",
       "    </tr>\n",
       "    <tr>\n",
       "      <th>1</th>\n",
       "      <td>1</td>\n",
       "      <td>Male</td>\n",
       "      <td>0</td>\n",
       "      <td>Yes</td>\n",
       "      <td>70</td>\n",
       "      <td>DSL</td>\n",
       "      <td>No</td>\n",
       "      <td>Yes</td>\n",
       "      <td>Yes</td>\n",
       "      <td>Yes</td>\n",
       "      <td>Two year</td>\n",
       "      <td>Yes</td>\n",
       "      <td>Credit card (automatic)</td>\n",
       "      <td>85.95</td>\n",
       "      <td>5931.75</td>\n",
       "      <td>No</td>\n",
       "    </tr>\n",
       "    <tr>\n",
       "      <th>2</th>\n",
       "      <td>2</td>\n",
       "      <td>Female</td>\n",
       "      <td>0</td>\n",
       "      <td>No</td>\n",
       "      <td>69</td>\n",
       "      <td>Fiber optic</td>\n",
       "      <td>No</td>\n",
       "      <td>No</td>\n",
       "      <td>Yes</td>\n",
       "      <td>Yes</td>\n",
       "      <td>Two year</td>\n",
       "      <td>No</td>\n",
       "      <td>Electronic check</td>\n",
       "      <td>104.00</td>\n",
       "      <td>7028.50</td>\n",
       "      <td>No</td>\n",
       "    </tr>\n",
       "    <tr>\n",
       "      <th>3</th>\n",
       "      <td>3</td>\n",
       "      <td>Female</td>\n",
       "      <td>0</td>\n",
       "      <td>No</td>\n",
       "      <td>5</td>\n",
       "      <td>No</td>\n",
       "      <td>No internet service</td>\n",
       "      <td>No internet service</td>\n",
       "      <td>No internet service</td>\n",
       "      <td>No internet service</td>\n",
       "      <td>Month-to-month</td>\n",
       "      <td>No</td>\n",
       "      <td>Credit card (automatic)</td>\n",
       "      <td>20.55</td>\n",
       "      <td>96.10</td>\n",
       "      <td>No</td>\n",
       "    </tr>\n",
       "    <tr>\n",
       "      <th>4</th>\n",
       "      <td>4</td>\n",
       "      <td>Female</td>\n",
       "      <td>0</td>\n",
       "      <td>Yes</td>\n",
       "      <td>72</td>\n",
       "      <td>Fiber optic</td>\n",
       "      <td>Yes</td>\n",
       "      <td>Yes</td>\n",
       "      <td>Yes</td>\n",
       "      <td>Yes</td>\n",
       "      <td>Two year</td>\n",
       "      <td>Yes</td>\n",
       "      <td>Bank transfer (automatic)</td>\n",
       "      <td>113.10</td>\n",
       "      <td>8248.50</td>\n",
       "      <td>No</td>\n",
       "    </tr>\n",
       "    <tr>\n",
       "      <th>...</th>\n",
       "      <td>...</td>\n",
       "      <td>...</td>\n",
       "      <td>...</td>\n",
       "      <td>...</td>\n",
       "      <td>...</td>\n",
       "      <td>...</td>\n",
       "      <td>...</td>\n",
       "      <td>...</td>\n",
       "      <td>...</td>\n",
       "      <td>...</td>\n",
       "      <td>...</td>\n",
       "      <td>...</td>\n",
       "      <td>...</td>\n",
       "      <td>...</td>\n",
       "      <td>...</td>\n",
       "      <td>...</td>\n",
       "    </tr>\n",
       "    <tr>\n",
       "      <th>3733</th>\n",
       "      <td>3733</td>\n",
       "      <td>Male</td>\n",
       "      <td>0</td>\n",
       "      <td>No</td>\n",
       "      <td>12</td>\n",
       "      <td>DSL</td>\n",
       "      <td>No</td>\n",
       "      <td>No</td>\n",
       "      <td>No</td>\n",
       "      <td>Yes</td>\n",
       "      <td>One year</td>\n",
       "      <td>Yes</td>\n",
       "      <td>Electronic check</td>\n",
       "      <td>59.80</td>\n",
       "      <td>727.80</td>\n",
       "      <td>Yes</td>\n",
       "    </tr>\n",
       "    <tr>\n",
       "      <th>3734</th>\n",
       "      <td>3734</td>\n",
       "      <td>Female</td>\n",
       "      <td>0</td>\n",
       "      <td>No</td>\n",
       "      <td>9</td>\n",
       "      <td>DSL</td>\n",
       "      <td>No</td>\n",
       "      <td>No</td>\n",
       "      <td>No</td>\n",
       "      <td>No</td>\n",
       "      <td>Month-to-month</td>\n",
       "      <td>Yes</td>\n",
       "      <td>Bank transfer (automatic)</td>\n",
       "      <td>44.20</td>\n",
       "      <td>403.35</td>\n",
       "      <td>Yes</td>\n",
       "    </tr>\n",
       "    <tr>\n",
       "      <th>3735</th>\n",
       "      <td>3735</td>\n",
       "      <td>Male</td>\n",
       "      <td>1</td>\n",
       "      <td>No</td>\n",
       "      <td>1</td>\n",
       "      <td>Fiber optic</td>\n",
       "      <td>No</td>\n",
       "      <td>No</td>\n",
       "      <td>No</td>\n",
       "      <td>No</td>\n",
       "      <td>Month-to-month</td>\n",
       "      <td>Yes</td>\n",
       "      <td>Electronic check</td>\n",
       "      <td>75.75</td>\n",
       "      <td>75.75</td>\n",
       "      <td>Yes</td>\n",
       "    </tr>\n",
       "    <tr>\n",
       "      <th>3736</th>\n",
       "      <td>3736</td>\n",
       "      <td>Female</td>\n",
       "      <td>0</td>\n",
       "      <td>No</td>\n",
       "      <td>67</td>\n",
       "      <td>Fiber optic</td>\n",
       "      <td>Yes</td>\n",
       "      <td>Yes</td>\n",
       "      <td>Yes</td>\n",
       "      <td>No</td>\n",
       "      <td>Month-to-month</td>\n",
       "      <td>Yes</td>\n",
       "      <td>Credit card (automatic)</td>\n",
       "      <td>102.95</td>\n",
       "      <td>6886.25</td>\n",
       "      <td>Yes</td>\n",
       "    </tr>\n",
       "    <tr>\n",
       "      <th>3737</th>\n",
       "      <td>3737</td>\n",
       "      <td>Male</td>\n",
       "      <td>1</td>\n",
       "      <td>No</td>\n",
       "      <td>4</td>\n",
       "      <td>Fiber optic</td>\n",
       "      <td>No</td>\n",
       "      <td>No</td>\n",
       "      <td>No</td>\n",
       "      <td>No</td>\n",
       "      <td>Month-to-month</td>\n",
       "      <td>Yes</td>\n",
       "      <td>Mailed check</td>\n",
       "      <td>74.40</td>\n",
       "      <td>306.60</td>\n",
       "      <td>Yes</td>\n",
       "    </tr>\n",
       "  </tbody>\n",
       "</table>\n",
       "<p>3738 rows × 16 columns</p>\n",
       "</div>"
      ],
      "text/plain": [
       "      Unnamed: 0  gender  SeniorCitizen Dependents  tenure InternetService  \\\n",
       "0              0    Male              0        Yes      34     Fiber optic   \n",
       "1              1    Male              0        Yes      70             DSL   \n",
       "2              2  Female              0         No      69     Fiber optic   \n",
       "3              3  Female              0         No       5              No   \n",
       "4              4  Female              0        Yes      72     Fiber optic   \n",
       "...          ...     ...            ...        ...     ...             ...   \n",
       "3733        3733    Male              0         No      12             DSL   \n",
       "3734        3734  Female              0         No       9             DSL   \n",
       "3735        3735    Male              1         No       1     Fiber optic   \n",
       "3736        3736  Female              0         No      67     Fiber optic   \n",
       "3737        3737    Male              1         No       4     Fiber optic   \n",
       "\n",
       "           OnlineSecurity         OnlineBackup     DeviceProtection  \\\n",
       "0                      No                   No                   No   \n",
       "1                      No                  Yes                  Yes   \n",
       "2                      No                   No                  Yes   \n",
       "3     No internet service  No internet service  No internet service   \n",
       "4                     Yes                  Yes                  Yes   \n",
       "...                   ...                  ...                  ...   \n",
       "3733                   No                   No                   No   \n",
       "3734                   No                   No                   No   \n",
       "3735                   No                   No                   No   \n",
       "3736                  Yes                  Yes                  Yes   \n",
       "3737                   No                   No                   No   \n",
       "\n",
       "              TechSupport        Contract PaperlessBilling  \\\n",
       "0                      No        One year              Yes   \n",
       "1                     Yes        Two year              Yes   \n",
       "2                     Yes        Two year               No   \n",
       "3     No internet service  Month-to-month               No   \n",
       "4                     Yes        Two year              Yes   \n",
       "...                   ...             ...              ...   \n",
       "3733                  Yes        One year              Yes   \n",
       "3734                   No  Month-to-month              Yes   \n",
       "3735                   No  Month-to-month              Yes   \n",
       "3736                   No  Month-to-month              Yes   \n",
       "3737                   No  Month-to-month              Yes   \n",
       "\n",
       "                  PaymentMethod  MonthlyCharges  TotalCharges Churn  \n",
       "0     Bank transfer (automatic)           78.95       2647.20    No  \n",
       "1       Credit card (automatic)           85.95       5931.75    No  \n",
       "2              Electronic check          104.00       7028.50    No  \n",
       "3       Credit card (automatic)           20.55         96.10    No  \n",
       "4     Bank transfer (automatic)          113.10       8248.50    No  \n",
       "...                         ...             ...           ...   ...  \n",
       "3733           Electronic check           59.80        727.80   Yes  \n",
       "3734  Bank transfer (automatic)           44.20        403.35   Yes  \n",
       "3735           Electronic check           75.75         75.75   Yes  \n",
       "3736    Credit card (automatic)          102.95       6886.25   Yes  \n",
       "3737               Mailed check           74.40        306.60   Yes  \n",
       "\n",
       "[3738 rows x 16 columns]"
      ]
     },
     "execution_count": 2,
     "metadata": {},
     "output_type": "execute_result"
    }
   ],
   "source": [
    "#Read the cleaned dataset\n",
    "df = pd.read_csv(\"final.csv\")\n",
    "df"
   ]
  },
  {
   "cell_type": "code",
   "execution_count": 3,
   "id": "dde4f0f5",
   "metadata": {},
   "outputs": [],
   "source": [
    "df = df.drop(\"Unnamed: 0\",axis=1)"
   ]
  },
  {
   "cell_type": "code",
   "execution_count": 4,
   "id": "6993755e",
   "metadata": {},
   "outputs": [
    {
     "data": {
      "text/plain": [
       "(3738, 15)"
      ]
     },
     "execution_count": 4,
     "metadata": {},
     "output_type": "execute_result"
    }
   ],
   "source": [
    "df.shape"
   ]
  },
  {
   "cell_type": "code",
   "execution_count": 5,
   "id": "0f7a82df",
   "metadata": {},
   "outputs": [
    {
     "data": {
      "text/plain": [
       "<AxesSubplot:ylabel='Churn'>"
      ]
     },
     "execution_count": 5,
     "metadata": {},
     "output_type": "execute_result"
    },
    {
     "data": {
      "image/png": "[encoded data removed]",
      "text/plain": [
       "<Figure size 432x288 with 1 Axes>"
      ]
     },
     "metadata": {},
     "output_type": "display_data"
    }
   ],
   "source": [
    "df.Churn.value_counts().plot(kind='pie',autopct=\"%0.2f\")"
   ]
  },
  {
   "cell_type": "markdown",
   "id": "7bd7f6ea",
   "metadata": {},
   "source": [
    "# Label Encoder"
   ]
  },
  {
   "cell_type": "code",
   "execution_count": 6,
   "id": "2a61e6c3",
   "metadata": {},
   "outputs": [],
   "source": [
    "col = df.columns[df.dtypes==\"object\"]\n",
    "\n",
    "from sklearn.preprocessing import LabelEncoder\n",
    "\n",
    "for i in col:\n",
    "    le = LabelEncoder()\n",
    "    df[i] = le.fit_transform(df[i])"
   ]
  },
  {
   "cell_type": "code",
   "execution_count": 7,
   "id": "95b041a1",
   "metadata": {},
   "outputs": [
    {
     "data": {
      "text/html": [
       "<div>\n",
       "<style scoped>\n",
       "    .dataframe tbody tr th:only-of-type {\n",
       "        vertical-align: middle;\n",
       "    }\n",
       "\n",
       "    .dataframe tbody tr th {\n",
       "        vertical-align: top;\n",
       "    }\n",
       "\n",
       "    .dataframe thead th {\n",
       "        text-align: right;\n",
       "    }\n",
       "</style>\n",
       "<table border=\"1\" class=\"dataframe\">\n",
       "  <thead>\n",
       "    <tr style=\"text-align: right;\">\n",
       "      <th></th>\n",
       "      <th>gender</th>\n",
       "      <th>SeniorCitizen</th>\n",
       "      <th>Dependents</th>\n",
       "      <th>tenure</th>\n",
       "      <th>InternetService</th>\n",
       "      <th>OnlineSecurity</th>\n",
       "      <th>OnlineBackup</th>\n",
       "      <th>DeviceProtection</th>\n",
       "      <th>TechSupport</th>\n",
       "      <th>Contract</th>\n",
       "      <th>PaperlessBilling</th>\n",
       "      <th>PaymentMethod</th>\n",
       "      <th>MonthlyCharges</th>\n",
       "      <th>TotalCharges</th>\n",
       "      <th>Churn</th>\n",
       "    </tr>\n",
       "  </thead>\n",
       "  <tbody>\n",
       "    <tr>\n",
       "      <th>0</th>\n",
       "      <td>1</td>\n",
       "      <td>0</td>\n",
       "      <td>1</td>\n",
       "      <td>34</td>\n",
       "      <td>1</td>\n",
       "      <td>0</td>\n",
       "      <td>0</td>\n",
       "      <td>0</td>\n",
       "      <td>0</td>\n",
       "      <td>1</td>\n",
       "      <td>1</td>\n",
       "      <td>0</td>\n",
       "      <td>78.95</td>\n",
       "      <td>2647.20</td>\n",
       "      <td>0</td>\n",
       "    </tr>\n",
       "    <tr>\n",
       "      <th>1</th>\n",
       "      <td>1</td>\n",
       "      <td>0</td>\n",
       "      <td>1</td>\n",
       "      <td>70</td>\n",
       "      <td>0</td>\n",
       "      <td>0</td>\n",
       "      <td>2</td>\n",
       "      <td>2</td>\n",
       "      <td>2</td>\n",
       "      <td>2</td>\n",
       "      <td>1</td>\n",
       "      <td>1</td>\n",
       "      <td>85.95</td>\n",
       "      <td>5931.75</td>\n",
       "      <td>0</td>\n",
       "    </tr>\n",
       "    <tr>\n",
       "      <th>2</th>\n",
       "      <td>0</td>\n",
       "      <td>0</td>\n",
       "      <td>0</td>\n",
       "      <td>69</td>\n",
       "      <td>1</td>\n",
       "      <td>0</td>\n",
       "      <td>0</td>\n",
       "      <td>2</td>\n",
       "      <td>2</td>\n",
       "      <td>2</td>\n",
       "      <td>0</td>\n",
       "      <td>2</td>\n",
       "      <td>104.00</td>\n",
       "      <td>7028.50</td>\n",
       "      <td>0</td>\n",
       "    </tr>\n",
       "    <tr>\n",
       "      <th>3</th>\n",
       "      <td>0</td>\n",
       "      <td>0</td>\n",
       "      <td>0</td>\n",
       "      <td>5</td>\n",
       "      <td>2</td>\n",
       "      <td>1</td>\n",
       "      <td>1</td>\n",
       "      <td>1</td>\n",
       "      <td>1</td>\n",
       "      <td>0</td>\n",
       "      <td>0</td>\n",
       "      <td>1</td>\n",
       "      <td>20.55</td>\n",
       "      <td>96.10</td>\n",
       "      <td>0</td>\n",
       "    </tr>\n",
       "    <tr>\n",
       "      <th>4</th>\n",
       "      <td>0</td>\n",
       "      <td>0</td>\n",
       "      <td>1</td>\n",
       "      <td>72</td>\n",
       "      <td>1</td>\n",
       "      <td>2</td>\n",
       "      <td>2</td>\n",
       "      <td>2</td>\n",
       "      <td>2</td>\n",
       "      <td>2</td>\n",
       "      <td>1</td>\n",
       "      <td>0</td>\n",
       "      <td>113.10</td>\n",
       "      <td>8248.50</td>\n",
       "      <td>0</td>\n",
       "    </tr>\n",
       "    <tr>\n",
       "      <th>...</th>\n",
       "      <td>...</td>\n",
       "      <td>...</td>\n",
       "      <td>...</td>\n",
       "      <td>...</td>\n",
       "      <td>...</td>\n",
       "      <td>...</td>\n",
       "      <td>...</td>\n",
       "      <td>...</td>\n",
       "      <td>...</td>\n",
       "      <td>...</td>\n",
       "      <td>...</td>\n",
       "      <td>...</td>\n",
       "      <td>...</td>\n",
       "      <td>...</td>\n",
       "      <td>...</td>\n",
       "    </tr>\n",
       "    <tr>\n",
       "      <th>3733</th>\n",
       "      <td>1</td>\n",
       "      <td>0</td>\n",
       "      <td>0</td>\n",
       "      <td>12</td>\n",
       "      <td>0</td>\n",
       "      <td>0</td>\n",
       "      <td>0</td>\n",
       "      <td>0</td>\n",
       "      <td>2</td>\n",
       "      <td>1</td>\n",
       "      <td>1</td>\n",
       "      <td>2</td>\n",
       "      <td>59.80</td>\n",
       "      <td>727.80</td>\n",
       "      <td>1</td>\n",
       "    </tr>\n",
       "    <tr>\n",
       "      <th>3734</th>\n",
       "      <td>0</td>\n",
       "      <td>0</td>\n",
       "      <td>0</td>\n",
       "      <td>9</td>\n",
       "      <td>0</td>\n",
       "      <td>0</td>\n",
       "      <td>0</td>\n",
       "      <td>0</td>\n",
       "      <td>0</td>\n",
       "      <td>0</td>\n",
       "      <td>1</td>\n",
       "      <td>0</td>\n",
       "      <td>44.20</td>\n",
       "      <td>403.35</td>\n",
       "      <td>1</td>\n",
       "    </tr>\n",
       "    <tr>\n",
       "      <th>3735</th>\n",
       "      <td>1</td>\n",
       "      <td>1</td>\n",
       "      <td>0</td>\n",
       "      <td>1</td>\n",
       "      <td>1</td>\n",
       "      <td>0</td>\n",
       "      <td>0</td>\n",
       "      <td>0</td>\n",
       "      <td>0</td>\n",
       "      <td>0</td>\n",
       "      <td>1</td>\n",
       "      <td>2</td>\n",
       "      <td>75.75</td>\n",
       "      <td>75.75</td>\n",
       "      <td>1</td>\n",
       "    </tr>\n",
       "    <tr>\n",
       "      <th>3736</th>\n",
       "      <td>0</td>\n",
       "      <td>0</td>\n",
       "      <td>0</td>\n",
       "      <td>67</td>\n",
       "      <td>1</td>\n",
       "      <td>2</td>\n",
       "      <td>2</td>\n",
       "      <td>2</td>\n",
       "      <td>0</td>\n",
       "      <td>0</td>\n",
       "      <td>1</td>\n",
       "      <td>1</td>\n",
       "      <td>102.95</td>\n",
       "      <td>6886.25</td>\n",
       "      <td>1</td>\n",
       "    </tr>\n",
       "    <tr>\n",
       "      <th>3737</th>\n",
       "      <td>1</td>\n",
       "      <td>1</td>\n",
       "      <td>0</td>\n",
       "      <td>4</td>\n",
       "      <td>1</td>\n",
       "      <td>0</td>\n",
       "      <td>0</td>\n",
       "      <td>0</td>\n",
       "      <td>0</td>\n",
       "      <td>0</td>\n",
       "      <td>1</td>\n",
       "      <td>3</td>\n",
       "      <td>74.40</td>\n",
       "      <td>306.60</td>\n",
       "      <td>1</td>\n",
       "    </tr>\n",
       "  </tbody>\n",
       "</table>\n",
       "<p>3738 rows × 15 columns</p>\n",
       "</div>"
      ],
      "text/plain": [
       "      gender  SeniorCitizen  Dependents  tenure  InternetService  \\\n",
       "0          1              0           1      34                1   \n",
       "1          1              0           1      70                0   \n",
       "2          0              0           0      69                1   \n",
       "3          0              0           0       5                2   \n",
       "4          0              0           1      72                1   \n",
       "...      ...            ...         ...     ...              ...   \n",
       "3733       1              0           0      12                0   \n",
       "3734       0              0           0       9                0   \n",
       "3735       1              1           0       1                1   \n",
       "3736       0              0           0      67                1   \n",
       "3737       1              1           0       4                1   \n",
       "\n",
       "      OnlineSecurity  OnlineBackup  DeviceProtection  TechSupport  Contract  \\\n",
       "0                  0             0                 0            0         1   \n",
       "1                  0             2                 2            2         2   \n",
       "2                  0             0                 2            2         2   \n",
       "3                  1             1                 1            1         0   \n",
       "4                  2             2                 2            2         2   \n",
       "...              ...           ...               ...          ...       ...   \n",
       "3733               0             0                 0            2         1   \n",
       "3734               0             0                 0            0         0   \n",
       "3735               0             0                 0            0         0   \n",
       "3736               2             2                 2            0         0   \n",
       "3737               0             0                 0            0         0   \n",
       "\n",
       "      PaperlessBilling  PaymentMethod  MonthlyCharges  TotalCharges  Churn  \n",
       "0                    1              0           78.95       2647.20      0  \n",
       "1                    1              1           85.95       5931.75      0  \n",
       "2                    0              2          104.00       7028.50      0  \n",
       "3                    0              1           20.55         96.10      0  \n",
       "4                    1              0          113.10       8248.50      0  \n",
       "...                ...            ...             ...           ...    ...  \n",
       "3733                 1              2           59.80        727.80      1  \n",
       "3734                 1              0           44.20        403.35      1  \n",
       "3735                 1              2           75.75         75.75      1  \n",
       "3736                 1              1          102.95       6886.25      1  \n",
       "3737                 1              3           74.40        306.60      1  \n",
       "\n",
       "[3738 rows x 15 columns]"
      ]
     },
     "execution_count": 7,
     "metadata": {},
     "output_type": "execute_result"
    }
   ],
   "source": [
    "df"
   ]
  },
  {
   "cell_type": "code",
   "execution_count": 8,
   "id": "11f200cf",
   "metadata": {},
   "outputs": [],
   "source": [
    "X = df.drop(\"Churn\",axis=1)\n",
    "y = df[\"Churn\"]"
   ]
  },
  {
   "cell_type": "markdown",
   "id": "9242f41e",
   "metadata": {},
   "source": [
    "# Modeling\n",
    "\n",
    "1) Logistic\n",
    "\n",
    "2) SVM\n",
    "\n",
    "3) Random Forest\n",
    "\n",
    "4) XGBoosting\n",
    "\n",
    "5) LGBM\n",
    "\n",
    "6) Naive Bayes\n",
    "\n",
    "create datafrme with model and their accuracy\n",
    "\n",
    "decide the best with the help of confusion matrix or kfold testing"
   ]
  },
  {
   "cell_type": "markdown",
   "id": "85b7ec28",
   "metadata": {},
   "source": [
    "# Features Scaling"
   ]
  },
  {
   "cell_type": "code",
   "execution_count": 9,
   "id": "8ba730d6",
   "metadata": {},
   "outputs": [],
   "source": [
    "from sklearn.preprocessing import StandardScaler\n",
    "sc = StandardScaler()\n",
    "x = sc.fit_transform(X)"
   ]
  },
  {
   "cell_type": "code",
   "execution_count": 10,
   "id": "1fbf7d2c",
   "metadata": {},
   "outputs": [],
   "source": [
    "from sklearn.model_selection import train_test_split\n",
    "X_train,X_test,y_train,y_test = train_test_split(x,y,train_size=0.75,random_state=0)"
   ]
  },
  {
   "cell_type": "code",
   "execution_count": 11,
   "id": "d04d8d3e",
   "metadata": {},
   "outputs": [
    {
     "data": {
      "text/html": [
       "<style>#sk-container-id-1 {color: black;background-color: white;}#sk-container-id-1 pre{padding: 0;}#sk-container-id-1 div.sk-toggleable {background-color: white;}#sk-container-id-1 label.sk-toggleable__label {cursor: pointer;display: block;width: 100%;margin-bottom: 0;padding: 0.3em;box-sizing: border-box;text-align: center;}#sk-container-id-1 label.sk-toggleable__label-arrow:before {content: \"▸\";float: left;margin-right: 0.25em;color: #696969;}#sk-container-id-1 label.sk-toggleable__label-arrow:hover:before {color: black;}#sk-container-id-1 div.sk-estimator:hover label.sk-toggleable__label-arrow:before {color: black;}#sk-container-id-1 div.sk-toggleable__content {max-height: 0;max-width: 0;overflow: hidden;text-align: left;background-color: #f0f8ff;}#sk-container-id-1 div.sk-toggleable__content pre {margin: 0.2em;color: black;border-radius: 0.25em;background-color: #f0f8ff;}#sk-container-id-1 input.sk-toggleable__control:checked~div.sk-toggleable__content {max-height: 200px;max-width: 100%;overflow: auto;}#sk-container-id-1 input.sk-toggleable__control:checked~label.sk-toggleable__label-arrow:before {content: \"▾\";}#sk-container-id-1 div.sk-estimator input.sk-toggleable__control:checked~label.sk-toggleable__label {background-color: #d4ebff;}#sk-container-id-1 div.sk-label input.sk-toggleable__control:checked~label.sk-toggleable__label {background-color: #d4ebff;}#sk-container-id-1 input.sk-hidden--visually {border: 0;clip: rect(1px 1px 1px 1px);clip: rect(1px, 1px, 1px, 1px);height: 1px;margin: -1px;overflow: hidden;padding: 0;position: absolute;width: 1px;}#sk-container-id-1 div.sk-estimator {font-family: monospace;background-color: #f0f8ff;border: 1px dotted black;border-radius: 0.25em;box-sizing: border-box;margin-bottom: 0.5em;}#sk-container-id-1 div.sk-estimator:hover {background-color: #d4ebff;}#sk-container-id-1 div.sk-parallel-item::after {content: \"\";width: 100%;border-bottom: 1px solid gray;flex-grow: 1;}#sk-container-id-1 div.sk-label:hover label.sk-toggleable__label {background-color: #d4ebff;}#sk-container-id-1 div.sk-serial::before {content: \"\";position: absolute;border-left: 1px solid gray;box-sizing: border-box;top: 0;bottom: 0;left: 50%;z-index: 0;}#sk-container-id-1 div.sk-serial {display: flex;flex-direction: column;align-items: center;background-color: white;padding-right: 0.2em;padding-left: 0.2em;position: relative;}#sk-container-id-1 div.sk-item {position: relative;z-index: 1;}#sk-container-id-1 div.sk-parallel {display: flex;align-items: stretch;justify-content: center;background-color: white;position: relative;}#sk-container-id-1 div.sk-item::before, #sk-container-id-1 div.sk-parallel-item::before {content: \"\";position: absolute;border-left: 1px solid gray;box-sizing: border-box;top: 0;bottom: 0;left: 50%;z-index: -1;}#sk-container-id-1 div.sk-parallel-item {display: flex;flex-direction: column;z-index: 1;position: relative;background-color: white;}#sk-container-id-1 div.sk-parallel-item:first-child::after {align-self: flex-end;width: 50%;}#sk-container-id-1 div.sk-parallel-item:last-child::after {align-self: flex-start;width: 50%;}#sk-container-id-1 div.sk-parallel-item:only-child::after {width: 0;}#sk-container-id-1 div.sk-dashed-wrapped {border: 1px dashed gray;margin: 0 0.4em 0.5em 0.4em;box-sizing: border-box;padding-bottom: 0.4em;background-color: white;}#sk-container-id-1 div.sk-label label {font-family: monospace;font-weight: bold;display: inline-block;line-height: 1.2em;}#sk-container-id-1 div.sk-label-container {text-align: center;}#sk-container-id-1 div.sk-container {/* jupyter's `normalize.less` sets `[hidden] { display: none; }` but bootstrap.min.css set `[hidden] { display: none !important; }` so we also need the `!important` here to be able to override the default hidden behavior on the sphinx rendered scikit-learn.org. See: https://github.com/scikit-learn/scikit-learn/issues/21755 */display: inline-block !important;position: relative;}#sk-container-id-1 div.sk-text-repr-fallback {display: none;}</style><div id=\"sk-container-id-1\" class=\"sk-top-container\"><div class=\"sk-text-repr-fallback\"><pre>LogisticRegression()</pre><b>In a Jupyter environment, please rerun this cell to show the HTML representation or trust the notebook. <br />On GitHub, the HTML representation is unable to render, please try loading this page with nbviewer.org.</b></div><div class=\"sk-container\" hidden><div class=\"sk-item\"><div class=\"sk-estimator sk-toggleable\"><input class=\"sk-toggleable__control sk-hidden--visually\" id=\"sk-estimator-id-1\" type=\"checkbox\" checked><label for=\"sk-estimator-id-1\" class=\"sk-toggleable__label sk-toggleable__label-arrow\">LogisticRegression</label><div class=\"sk-toggleable__content\"><pre>LogisticRegression()</pre></div></div></div></div></div>"
      ],
      "text/plain": [
       "LogisticRegression()"
      ]
     },
     "execution_count": 11,
     "metadata": {},
     "output_type": "execute_result"
    }
   ],
   "source": [
    "from sklearn.linear_model import LogisticRegression\n",
    "model1 = LogisticRegression()\n",
    "model1.fit(X_train,y_train)"
   ]
  },
  {
   "cell_type": "code",
   "execution_count": 12,
   "id": "5a423194",
   "metadata": {},
   "outputs": [
    {
     "data": {
      "text/plain": [
       "0.7475935828877005"
      ]
     },
     "execution_count": 12,
     "metadata": {},
     "output_type": "execute_result"
    }
   ],
   "source": [
    "from sklearn.metrics import confusion_matrix,accuracy_score,classification_report\n",
    "y_pred = model1.predict(X_test)\n",
    "accuracy_score(y_test,y_pred)"
   ]
  },
  {
   "cell_type": "code",
   "execution_count": 13,
   "id": "bd866797",
   "metadata": {},
   "outputs": [
    {
     "data": {
      "text/plain": [
       "array([[332, 131],\n",
       "       [105, 367]], dtype=int64)"
      ]
     },
     "execution_count": 13,
     "metadata": {},
     "output_type": "execute_result"
    }
   ],
   "source": [
    "confusion_matrix(y_test,y_pred)"
   ]
  },
  {
   "cell_type": "code",
   "execution_count": 14,
   "id": "915d669b",
   "metadata": {},
   "outputs": [
    {
     "name": "stdout",
     "output_type": "stream",
     "text": [
      "              precision    recall  f1-score   support\n",
      "\n",
      "           0       0.76      0.72      0.74       463\n",
      "           1       0.74      0.78      0.76       472\n",
      "\n",
      "    accuracy                           0.75       935\n",
      "   macro avg       0.75      0.75      0.75       935\n",
      "weighted avg       0.75      0.75      0.75       935\n",
      "\n"
     ]
    }
   ],
   "source": [
    "print(classification_report(y_test,y_pred))"
   ]
  },
  {
   "cell_type": "code",
   "execution_count": 15,
   "id": "884e77bd",
   "metadata": {},
   "outputs": [],
   "source": [
    "from sklearn.model_selection import KFold\n",
    "from sklearn.model_selection import cross_val_score\n",
    "\n",
    "kfold = KFold(n_splits=10)\n",
    "model1 = LogisticRegression()\n",
    "\n",
    "results = cross_val_score(model1, x,y, cv=kfold)"
   ]
  },
  {
   "cell_type": "code",
   "execution_count": 16,
   "id": "c65d5cfa",
   "metadata": {},
   "outputs": [
    {
     "data": {
      "text/plain": [
       "(0.6229946524064172, 0.7914438502673797)"
      ]
     },
     "execution_count": 16,
     "metadata": {},
     "output_type": "execute_result"
    }
   ],
   "source": [
    "results.min(),results.max()"
   ]
  },
  {
   "cell_type": "code",
   "execution_count": 17,
   "id": "cabb27c7",
   "metadata": {},
   "outputs": [
    {
     "data": {
      "text/plain": [
       "0.052307351556872446"
      ]
     },
     "execution_count": 17,
     "metadata": {},
     "output_type": "execute_result"
    }
   ],
   "source": [
    "results.std()"
   ]
  },
  {
   "cell_type": "code",
   "execution_count": 18,
   "id": "11596100",
   "metadata": {},
   "outputs": [
    {
     "data": {
      "text/plain": [
       "0.7065368238448194"
      ]
     },
     "execution_count": 18,
     "metadata": {},
     "output_type": "execute_result"
    }
   ],
   "source": [
    "results.mean()"
   ]
  },
  {
   "cell_type": "code",
   "execution_count": 19,
   "id": "8fb81597",
   "metadata": {},
   "outputs": [
    {
     "name": "stdout",
     "output_type": "stream",
     "text": [
      "Average Accuracy 0.7075912890137777\n",
      "SD  0.028490216302039437\n"
     ]
    }
   ],
   "source": [
    "#Apply Random Forest\n",
    "from sklearn.ensemble import RandomForestClassifier\n",
    "\n",
    "\n",
    "kfold = KFold(n_splits=10)\n",
    "model2 = RandomForestClassifier()\n",
    "\n",
    "results = cross_val_score(model2, x,y, cv=kfold)\n",
    "\n",
    "print(\"Average Accuracy\",results.mean())\n",
    "print(\"SD \",results.std())"
   ]
  },
  {
   "cell_type": "code",
   "execution_count": 20,
   "id": "8f48f73d",
   "metadata": {},
   "outputs": [
    {
     "data": {
      "text/plain": [
       "(0.6684491978609626, 0.7620320855614974)"
      ]
     },
     "execution_count": 20,
     "metadata": {},
     "output_type": "execute_result"
    }
   ],
   "source": [
    "results.min(),results.max()"
   ]
  },
  {
   "cell_type": "code",
   "execution_count": 21,
   "id": "e4a60815",
   "metadata": {},
   "outputs": [],
   "source": [
    "from xgboost import XGBClassifier\n",
    "from sklearn.neighbors import KNeighborsClassifier\n",
    "from sklearn.naive_bayes import GaussianNB\n",
    "from sklearn.svm import SVC"
   ]
  },
  {
   "cell_type": "code",
   "execution_count": 22,
   "id": "21ad242b",
   "metadata": {},
   "outputs": [],
   "source": [
    "models = []\n",
    "models.append(('LR', LogisticRegression(max_iter=400)))\n",
    "models.append(('KNN', KNeighborsClassifier()))\n",
    "models.append(('RF', RandomForestClassifier()))\n",
    "models.append(('NB', GaussianNB()))\n",
    "models.append(('SVM', SVC()))\n",
    "models.append(('XGboost',XGBClassifier()))"
   ]
  },
  {
   "cell_type": "code",
   "execution_count": 23,
   "id": "ea4b91af",
   "metadata": {},
   "outputs": [
    {
     "name": "stdout",
     "output_type": "stream",
     "text": [
      "LR: 0.706537 (0.052307)\n",
      "KNN: 0.672298 (0.048434)\n",
      "RF: 0.707863 (0.020940)\n",
      "NB: 0.733293 (0.048830)\n",
      "SVM: 0.703326 (0.043394)\n",
      "XGboost: 0.691017 (0.026541)\n"
     ]
    }
   ],
   "source": [
    "results = []\n",
    "names = []\n",
    "scoring = 'accuracy'\n",
    "for name, model in models:\n",
    "\tkfold = KFold(n_splits=10)\n",
    "\tcv_results = cross_val_score(model, x,y, cv=kfold, scoring=scoring)\n",
    "\tresults.append(cv_results)\n",
    "\tnames.append(name)\n",
    "\tmsg = \"%s: %f (%f)\" % (name, cv_results.mean(), cv_results.std())\n",
    "\tprint(msg)"
   ]
  },
  {
   "cell_type": "code",
   "execution_count": 24,
   "id": "15a4a5b3",
   "metadata": {},
   "outputs": [
    {
     "name": "stdout",
     "output_type": "stream",
     "text": [
      "After the analysis of model, we finalize the Random forest based on avg accuracy and std\n"
     ]
    }
   ],
   "source": [
    "print(\"After the analysis of model, we finalize the Random forest based on avg accuracy and std\")"
   ]
  },
  {
   "cell_type": "markdown",
   "id": "c90927d0",
   "metadata": {},
   "source": [
    "# Hyperparameter Tuning"
   ]
  },
  {
   "cell_type": "code",
   "execution_count": 25,
   "id": "47c84bff",
   "metadata": {},
   "outputs": [
    {
     "name": "stdout",
     "output_type": "stream",
     "text": [
      "Average Accuracy 0.7027791716247795\n",
      "SD  0.021940779537509506\n",
      "0.6657754010695187 0.7433155080213903\n"
     ]
    }
   ],
   "source": [
    "from sklearn.ensemble import RandomForestClassifier\n",
    "\n",
    "kfold = KFold(n_splits=10)\n",
    "model2 = RandomForestClassifier(criterion=\"entropy\")\n",
    "\n",
    "results = cross_val_score(model2, x,y, cv=kfold)\n",
    "\n",
    "print(\"Average Accuracy\",results.mean())\n",
    "print(\"SD \",results.std())\n",
    "print(results.min(),results.max())"
   ]
  },
  {
   "cell_type": "code",
   "execution_count": 26,
   "id": "0a36e611",
   "metadata": {},
   "outputs": [],
   "source": [
    "from sklearn.model_selection import GridSearchCV"
   ]
  },
  {
   "cell_type": "code",
   "execution_count": 27,
   "id": "230dc94c",
   "metadata": {},
   "outputs": [],
   "source": [
    "model2 = RandomForestClassifier()\n",
    "kfold = KFold(n_splits=10)\n",
    "param = {\"n_estimators\":[50,100,200,150],\"max_depth\":[6,8,12]}\n",
    "grid = GridSearchCV(model2,param_grid=param,cv=kfold)\n",
    "grid_result = grid.fit(x,y)"
   ]
  },
  {
   "cell_type": "code",
   "execution_count": 28,
   "id": "35f2cb81",
   "metadata": {},
   "outputs": [
    {
     "data": {
      "text/plain": [
       "0.7255322504336854"
      ]
     },
     "execution_count": 28,
     "metadata": {},
     "output_type": "execute_result"
    }
   ],
   "source": [
    "grid_result.best_score_"
   ]
  },
  {
   "cell_type": "code",
   "execution_count": 29,
   "id": "2c3655a4",
   "metadata": {},
   "outputs": [
    {
     "data": {
      "text/plain": [
       "{'max_depth': 8, 'n_estimators': 100}"
      ]
     },
     "execution_count": 29,
     "metadata": {},
     "output_type": "execute_result"
    }
   ],
   "source": [
    "grid_result.best_params_"
   ]
  },
  {
   "cell_type": "code",
   "execution_count": 30,
   "id": "cc03c664",
   "metadata": {},
   "outputs": [
    {
     "name": "stdout",
     "output_type": "stream",
     "text": [
      "0.7236634600220785,0.048483000143513935 with: {'max_depth': 6, 'n_estimators': 50}\n",
      "0.7223222606127511,0.04718086005792919 with: {'max_depth': 6, 'n_estimators': 100}\n",
      "0.7220541640980058,0.04590351829865499 with: {'max_depth': 6, 'n_estimators': 200}\n",
      "0.7188463247838741,0.04919844638561729 with: {'max_depth': 6, 'n_estimators': 150}\n",
      "0.7188491921262778,0.042829286793947784 with: {'max_depth': 8, 'n_estimators': 50}\n",
      "0.7255322504336854,0.04302075153462117 with: {'max_depth': 8, 'n_estimators': 100}\n",
      "0.7231215323077806,0.03873630307213376 with: {'max_depth': 8, 'n_estimators': 200}\n",
      "0.7244598643747043,0.035811689308513785 with: {'max_depth': 8, 'n_estimators': 150}\n",
      "0.7137481899901076,0.03141013956039907 with: {'max_depth': 12, 'n_estimators': 50}\n",
      "0.7166958179811042,0.038010408628139244 with: {'max_depth': 12, 'n_estimators': 100}\n",
      "0.7196384281228942,0.03508429507082832 with: {'max_depth': 12, 'n_estimators': 200}\n",
      "0.7183008128915714,0.036702456015724604 with: {'max_depth': 12, 'n_estimators': 150}\n"
     ]
    }
   ],
   "source": [
    "means = grid.cv_results_['mean_test_score']\n",
    "stds = grid.cv_results_['std_test_score']\n",
    "params = grid.cv_results_['params']\n",
    "\n",
    "\n",
    "for mean, stdev, param in zip(means, stds, params):\n",
    "  print('{},{} with: {}'.format(mean, stdev, param))"
   ]
  },
  {
   "cell_type": "code",
   "execution_count": 31,
   "id": "db770552",
   "metadata": {},
   "outputs": [],
   "source": [
    "model2 = RandomForestClassifier(max_depth=8)\n",
    "kfold = KFold(n_splits=10)\n",
    "param = {\"n_estimators\":[20,30,50,100]}\n",
    "grid = GridSearchCV(model2,param_grid=param,cv=kfold)\n",
    "grid_result = grid.fit(x,y)"
   ]
  },
  {
   "cell_type": "code",
   "execution_count": 32,
   "id": "66addf8a",
   "metadata": {},
   "outputs": [
    {
     "data": {
      "text/plain": [
       "0.724193201531161"
      ]
     },
     "execution_count": 32,
     "metadata": {},
     "output_type": "execute_result"
    }
   ],
   "source": [
    "grid_result.best_score_"
   ]
  },
  {
   "cell_type": "code",
   "execution_count": 33,
   "id": "7390eafc",
   "metadata": {},
   "outputs": [
    {
     "data": {
      "text/plain": [
       "{'n_estimators': 100}"
      ]
     },
     "execution_count": 33,
     "metadata": {},
     "output_type": "execute_result"
    }
   ],
   "source": [
    "grid_result.best_params_"
   ]
  },
  {
   "cell_type": "code",
   "execution_count": null,
   "id": "af8602c6",
   "metadata": {},
   "outputs": [],
   "source": []
  }
 ],
 "metadata": {
  "kernelspec": {
   "display_name": "Python 3 (ipykernel)",
   "language": "python",
   "name": "python3"
  },
  "language_info": {
   "codemirror_mode": {
    "name": "ipython",
    "version": 3
   },
   "file_extension": ".py",
   "mimetype": "text/x-python",
   "name": "python",
   "nbconvert_exporter": "python",
   "pygments_lexer": "ipython3",
   "version": "3.8.10"
  }
 },
 "nbformat": 4,
 "nbformat_minor": 5
}
